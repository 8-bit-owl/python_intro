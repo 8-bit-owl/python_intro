{
 "cells": [
  {
   "cell_type": "markdown",
   "metadata": {},
   "source": [
    "# Chapter 2: Python and IDE Installation\n",
    "\n",
    "This chapter gives instructions for installing Python and Visual Studio Code on a Windows PC.  If you are reviewing Python for ECE-CSE 434, you can use Python and VSCode that are preinstalled for Ubuntu in the VDI Remote Desktop.\n",
    "\n",
    "## Download & Install Python\n",
    "\n",
    "While you can download and install the latest version of Python from [https://www.python.org/](https://www.python.org/), a simpler way in Windows is to type `python` from the command line.  This will take you to the Windows store and prompt to you download and install Python, which you can do.\n",
    "\n",
    "\n",
    "## Test Python\n",
    "\n",
    "In a command window type `python` and you should now see something like the following:\n",
    "```\n",
    "C:\\Users\\morri>python\n",
    "Python 3.9.5 (tags/v3.9.5:0a7dcbd, May  3 2021, 17:27:52) [MSC v.1928 64 bit (AMD64)] on win32\n",
    "Type \"help\", \"copyright\", \"credits\" or \"license\" for more information.\n",
    ">>>\n",
    "```\n",
    "I you see this, then you have a working interactive Python interpreter.  You can exit it with:\n",
    "```python\n",
    ">>> exit()\n",
    "```"
   ]
  },
  {
   "cell_type": "markdown",
   "metadata": {},
   "source": [
    "\n",
    "## Visual Studio Code\n",
    "\n",
    "These notes will use VSCode.  Download and install it from: [https://code.visualstudio.com/](https://code.visualstudio.com/).\n",
    "\n",
    "### The Python Extension\n",
    "\n",
    "VSCode supports Python formatting and color-coding through an optional extension.  To install the Python extension, click on the Extensions icon on the left, type `python`, select the top item from Microsoft, and click on install.\n",
    "\n",
    "![Python in VSCode](.Images/vs_python.png)\n",
    "\n",
    "### Terminal in VS Code\n",
    "\n",
    "You can open a terminal within VSCode.  In the `View` menu select `Terminal`:\n",
    "\n",
    "![View Menu](.Images/vs_terminal.png)\n",
    "\n",
    "Then from in the terminal type `python`\n",
    "\n",
    "![Python in Terminal](.Images/vs_terminal_2.png)\n",
    "\n",
    "Note: if you have installed Python while VSCode is running, then Python may not be in your path.  You can simply restart VSCode, and that should solve it.  You can use Python within a VSCode terminal, or a separate terminal window; whichever you prefer. \n",
    "\n",
    "### View Notes in VSCode\n",
    "\n",
    "To open these notes in VSCode, first clone this repository.  Then in the `File` menu select `Open Folder` and open the cloned repo folder.  After you open a Markdown file (.md), click on the preview button on the top right to see it graphically.\n",
    "\n",
    "### Auto Save\n",
    "\n",
    "I prefer to edit with auto-save on, which is not the default.  You can toggle this option from the `File` menu.\n",
    "\n",
    "![Auto Save](.Images/autosave.png)"
   ]
  },
  {
   "cell_type": "markdown",
   "metadata": {},
   "source": [
    "## Run Python Within the Documents\n",
    "Some of the chapters in this Python Introduction are Jupyter Notebooks, such as this chapter.  If you edit this chapter in Visual Studio Code, it may prompt you to install the Jupyter extension (which you should), and then you can directly run code blocks like the code below.  Try it."
   ]
  },
  {
   "cell_type": "code",
   "execution_count": 1,
   "metadata": {},
   "outputs": [
    {
     "name": "stdout",
     "output_type": "stream",
     "text": [
      "Look -- I'm running Python code right here!\n"
     ]
    }
   ],
   "source": [
    "print(\"Look -- I'm running Python code right here!\")"
   ]
  },
  {
   "cell_type": "markdown",
   "metadata": {},
   "source": [
    "You can modify the code and re-run the block to see how it changes.  Try changing the text above and re-running the block.\n",
    "___\n",
    "### [Outline](README.md), Next: [Chapter 3: Python Programs](Chapter_03_Python_Programs.md)"
   ]
  }
 ],
 "metadata": {
  "kernelspec": {
   "display_name": "Python 3.9.12 ('basic')",
   "language": "python",
   "name": "python3"
  },
  "language_info": {
   "codemirror_mode": {
    "name": "ipython",
    "version": 3
   },
   "file_extension": ".py",
   "mimetype": "text/x-python",
   "name": "python",
   "nbconvert_exporter": "python",
   "pygments_lexer": "ipython3",
   "version": "3.9.13"
  },
  "orig_nbformat": 4,
  "vscode": {
   "interpreter": {
    "hash": "53e2749c903124bcb77c73a8e4bdc9f454c2769f07e2d95583bdcf26be5d92b4"
   }
  }
 },
 "nbformat": 4,
 "nbformat_minor": 2
}
