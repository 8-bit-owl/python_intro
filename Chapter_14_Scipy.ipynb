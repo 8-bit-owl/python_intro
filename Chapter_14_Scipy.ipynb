{
 "cells": [
  {
   "cell_type": "markdown",
   "metadata": {},
   "source": [
    "# Chapter 14: Scipy\n",
    "\n",
    "**Scipy** is a collection of mathematical and statistical tools built on Numpy.  Tools include various representations for rotations, as well as clustering, interpolation, sparse arrays, and statistical distributions.   Documentation is available here: [https://docs.scipy.org/doc/scipy/tutorial/general.html](https://docs.scipy.org/doc/scipy/tutorial/general.html).  \n",
    "\n",
    "For installation, see [Chapter 13](Chapter_13_Numpy.ipynb)."
   ]
  },
  {
   "cell_type": "markdown",
   "metadata": {},
   "source": [
    "## Rotations with Scipy\n",
    "\n",
    "Common operations we will need are to translate and rotate 3D points.  We've seen point translation with Numpy arrays in Chapter 13.  Rotation are a bit tricker and there are multiple ways they can be represented.  Scipy has a rotation class that can read in rotations defined in multiple formats including Euler angles, rotation matrices and quaternions.  Its internal representation is hidden, but it can display a rotation in any of these formats.  Official documentation is [here](https://docs.scipy.org/doc/scipy/reference/generated/scipy.spatial.transform.Rotation.html?highlight=rotation#scipy.spatial.transform.Rotation).  Let's try it out.\n",
    "\n",
    "First, we represent 3D points are stacked vectors in 2D Numpy arrays like this:"
   ]
  },
  {
   "cell_type": "code",
   "execution_count": 1,
   "metadata": {},
   "outputs": [
    {
     "data": {
      "text/plain": [
       "array([[5., 2., 0.],\n",
       "       [4., 2., 2.],\n",
       "       [4., 2., 2.],\n",
       "       [5., 2., 0.]])"
      ]
     },
     "execution_count": 1,
     "metadata": {},
     "output_type": "execute_result"
    }
   ],
   "source": [
    "import numpy as np\n",
    "points = np.array([[5., 2., 0.], [4., 2., 2.], [4., 2., 2.], [5., 2., 0.]])\n",
    "points"
   ]
  },
  {
   "cell_type": "markdown",
   "metadata": {},
   "source": [
    "Now let's create a rotation:"
   ]
  },
  {
   "cell_type": "code",
   "execution_count": 3,
   "metadata": {},
   "outputs": [
    {
     "data": {
      "text/plain": [
       "<scipy.spatial.transform.rotation.Rotation at 0x20941cee4e0>"
      ]
     },
     "execution_count": 3,
     "metadata": {},
     "output_type": "execute_result"
    }
   ],
   "source": [
    "from scipy.spatial.transform import Rotation as R\n",
    "rot = R.from_euler('XYZ',[0,0,45],degrees=True)     # A 45-degree rotation around the z axis\n",
    "rot"
   ]
  },
  {
   "cell_type": "markdown",
   "metadata": {},
   "source": [
    "The internal rotation representation is hiddenn, but we can view the rotation in various representations like this:"
   ]
  },
  {
   "cell_type": "code",
   "execution_count": 16,
   "metadata": {},
   "outputs": [
    {
     "data": {
      "text/plain": [
       "array([0.        , 0.        , 0.78539816])"
      ]
     },
     "execution_count": 16,
     "metadata": {},
     "output_type": "execute_result"
    }
   ],
   "source": [
    "rot.as_euler('XYZ')"
   ]
  },
  {
   "cell_type": "code",
   "execution_count": 17,
   "metadata": {},
   "outputs": [
    {
     "data": {
      "text/plain": [
       "array([[ 0.70710678, -0.70710678,  0.        ],\n",
       "       [ 0.70710678,  0.70710678,  0.        ],\n",
       "       [ 0.        ,  0.        ,  1.        ]])"
      ]
     },
     "execution_count": 17,
     "metadata": {},
     "output_type": "execute_result"
    }
   ],
   "source": [
    "rot.as_matrix()"
   ]
  },
  {
   "cell_type": "markdown",
   "metadata": {},
   "source": [
    "To actually rotate points, we could extract a rotation matrix and multiply a 2D array of points like this:"
   ]
  },
  {
   "cell_type": "code",
   "execution_count": 4,
   "metadata": {},
   "outputs": [
    {
     "data": {
      "text/plain": [
       "array([[2.12132034, 1.41421356, 1.41421356, 2.12132034],\n",
       "       [4.94974747, 4.24264069, 4.24264069, 4.94974747],\n",
       "       [0.        , 2.        , 2.        , 0.        ]])"
      ]
     },
     "execution_count": 4,
     "metadata": {},
     "output_type": "execute_result"
    }
   ],
   "source": [
    "np.matmul( rot.as_matrix(), points.T )"
   ]
  },
  {
   "cell_type": "markdown",
   "metadata": {},
   "source": [
    "Here we have used the Numpy `matmul()` function to do matrix multiplication.  We've also applied `.T` to the `point_array` to transpose it so that points are columns before we multiply by `rot`.  You may wish to transpose the result with a `.T` so that the output is put back in row format.\n",
    "\n",
    "Now a simpler and preferred way to rotate the points is to let the Scipy class itself apply the rotation to raw point array like this:"
   ]
  },
  {
   "cell_type": "code",
   "execution_count": 5,
   "metadata": {},
   "outputs": [
    {
     "data": {
      "text/plain": [
       "array([[2.12132034, 4.94974747, 0.        ],\n",
       "       [1.41421356, 4.24264069, 2.        ],\n",
       "       [1.41421356, 4.24264069, 2.        ],\n",
       "       [2.12132034, 4.94974747, 0.        ]])"
      ]
     },
     "execution_count": 5,
     "metadata": {},
     "output_type": "execute_result"
    }
   ],
   "source": [
    "rot.apply(points)"
   ]
  },
  {
   "cell_type": "markdown",
   "metadata": {},
   "source": [
    "This rotates each point, stored as a length-3 row, and keeps it in the same row format. "
   ]
  },
  {
   "cell_type": "markdown",
   "metadata": {},
   "source": [
    "Broadcasting is useful not only for operating on point cloud arrays, but also on image arrays.\n",
    "\n",
    "\n",
    "___\n",
    "### [Outline](README.md), Next: [Chapter 15: OpenCV](Chapter_15_OpenCV.ipynb)"
   ]
  }
 ],
 "metadata": {
  "kernelspec": {
   "display_name": "Python 3.9.7 64-bit ('cv4': venv)",
   "language": "python",
   "name": "python3"
  },
  "language_info": {
   "codemirror_mode": {
    "name": "ipython",
    "version": 3
   },
   "file_extension": ".py",
   "mimetype": "text/x-python",
   "name": "python",
   "nbconvert_exporter": "python",
   "pygments_lexer": "ipython3",
   "version": "3.9.13"
  },
  "orig_nbformat": 4,
  "vscode": {
   "interpreter": {
    "hash": "6dacb7d2f7fff4c8c051172debf986d5a93c53a46f2df21f8e79bb640e001617"
   }
  }
 },
 "nbformat": 4,
 "nbformat_minor": 2
}
