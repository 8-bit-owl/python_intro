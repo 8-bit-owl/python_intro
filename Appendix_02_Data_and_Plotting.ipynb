{
 "cells": [
  {
   "cell_type": "markdown",
   "metadata": {},
   "source": [
    "# Appendix 2: Data Series and Plotting\n",
    "\n",
    "This appendix describes using the `pandas` toolbox to read in and organize data in series form along with `matplotlib` for various plotting functions.  Only very basic functionality will be shown, but once you have the idea it is pretty easy to find examples for all kinds of uses online which you modify to achieve your goals.  For a quick but intense introduction to pandas, see: https://pandas.pydata.org/docs/user_guide/10min.html.  To figure out how to plot things in Matplotlib, I recommend doing a Google search for what you want to do. "
   ]
  },
  {
   "cell_type": "markdown",
   "metadata": {},
   "source": [
    "___\n",
    "## 1. Set up Python\n",
    "\n",
    "This appendix is a Jupyter notebook and has interactive running of Python commands.  Feel free to make a copy and modify the commands to experiment with variations.  \n",
    "\n",
    "Start by activating your virtual environment (if you have one, see Chapter 12) and in the terminal window install the following toolboxes:\n",
    "```\n",
    "$ python -m pip install pandas matplotlib\n",
    "```\n",
    "Next you are ready to load the necessary libraries:"
   ]
  },
  {
   "cell_type": "code",
   "execution_count": 1,
   "metadata": {},
   "outputs": [],
   "source": [
    "import pandas as pd\n",
    "import numpy as np\n",
    "import matplotlib.pyplot as plt"
   ]
  },
  {
   "cell_type": "markdown",
   "metadata": {},
   "source": [
    "These imports will enable us to use `pd` to refer to pandas, `np` for numpy and `plt` for matplotlib's pyplot.\n",
    "___\n",
    "## 2. Read and Organize Stockmarket Values\n",
    "\n",
    "A convenient relatively large dataset is the S&P 500 stock index.  Download monthly historical data on for index SPX from this website: https://stooq.com/q/d/?s=%5Espx&c=0&i=m, and copy the file `^spx_m.csv` to the `Data` folder within the current folder. If you open this file in a text editor you will see the top few lines contain a header line and data with elements separated by commas.  The `.csv` stands for *comma separated values* even though sometimes the values could be separated by other characters such as spaces:\n",
    "```\n",
    "Date,Open,High,Low,Close,Volume\n",
    "1789-05-31,0.51,0.51,0.51,0.51\n",
    "1789-06-30,0.51,0.51,0.51,0.51\n",
    "1789-07-31,0.5,0.5,0.5,0.5\n",
    "1789-08-31,0.5,0.51,0.5,0.51\n",
    "...\n",
    "```\n",
    "Let's load this using `pandas` and take a look at the contents:"
   ]
  },
  {
   "cell_type": "code",
   "execution_count": 44,
   "metadata": {},
   "outputs": [
    {
     "data": {
      "text/html": [
       "<div>\n",
       "<style scoped>\n",
       "    .dataframe tbody tr th:only-of-type {\n",
       "        vertical-align: middle;\n",
       "    }\n",
       "\n",
       "    .dataframe tbody tr th {\n",
       "        vertical-align: top;\n",
       "    }\n",
       "\n",
       "    .dataframe thead th {\n",
       "        text-align: right;\n",
       "    }\n",
       "</style>\n",
       "<table border=\"1\" class=\"dataframe\">\n",
       "  <thead>\n",
       "    <tr style=\"text-align: right;\">\n",
       "      <th></th>\n",
       "      <th>Date</th>\n",
       "      <th>Open</th>\n",
       "      <th>High</th>\n",
       "      <th>Low</th>\n",
       "      <th>Close</th>\n",
       "      <th>Volume</th>\n",
       "    </tr>\n",
       "  </thead>\n",
       "  <tbody>\n",
       "    <tr>\n",
       "      <th>0</th>\n",
       "      <td>1789-05-31</td>\n",
       "      <td>0.51</td>\n",
       "      <td>0.51</td>\n",
       "      <td>0.51</td>\n",
       "      <td>0.51</td>\n",
       "      <td>NaN</td>\n",
       "    </tr>\n",
       "    <tr>\n",
       "      <th>1</th>\n",
       "      <td>1789-06-30</td>\n",
       "      <td>0.51</td>\n",
       "      <td>0.51</td>\n",
       "      <td>0.51</td>\n",
       "      <td>0.51</td>\n",
       "      <td>NaN</td>\n",
       "    </tr>\n",
       "    <tr>\n",
       "      <th>2</th>\n",
       "      <td>1789-07-31</td>\n",
       "      <td>0.50</td>\n",
       "      <td>0.50</td>\n",
       "      <td>0.50</td>\n",
       "      <td>0.50</td>\n",
       "      <td>NaN</td>\n",
       "    </tr>\n",
       "    <tr>\n",
       "      <th>3</th>\n",
       "      <td>1789-08-31</td>\n",
       "      <td>0.50</td>\n",
       "      <td>0.51</td>\n",
       "      <td>0.50</td>\n",
       "      <td>0.51</td>\n",
       "      <td>NaN</td>\n",
       "    </tr>\n",
       "    <tr>\n",
       "      <th>4</th>\n",
       "      <td>1789-09-30</td>\n",
       "      <td>0.51</td>\n",
       "      <td>0.51</td>\n",
       "      <td>0.50</td>\n",
       "      <td>0.51</td>\n",
       "      <td>NaN</td>\n",
       "    </tr>\n",
       "    <tr>\n",
       "      <th>...</th>\n",
       "      <td>...</td>\n",
       "      <td>...</td>\n",
       "      <td>...</td>\n",
       "      <td>...</td>\n",
       "      <td>...</td>\n",
       "      <td>...</td>\n",
       "    </tr>\n",
       "    <tr>\n",
       "      <th>2789</th>\n",
       "      <td>2022-02-28</td>\n",
       "      <td>4519.57</td>\n",
       "      <td>4595.31</td>\n",
       "      <td>4114.65</td>\n",
       "      <td>4373.94</td>\n",
       "      <td>5.074627e+10</td>\n",
       "    </tr>\n",
       "    <tr>\n",
       "      <th>2790</th>\n",
       "      <td>2022-03-31</td>\n",
       "      <td>4363.14</td>\n",
       "      <td>4637.30</td>\n",
       "      <td>4157.87</td>\n",
       "      <td>4530.41</td>\n",
       "      <td>6.190108e+10</td>\n",
       "    </tr>\n",
       "    <tr>\n",
       "      <th>2791</th>\n",
       "      <td>2022-04-30</td>\n",
       "      <td>4540.32</td>\n",
       "      <td>4593.45</td>\n",
       "      <td>4124.28</td>\n",
       "      <td>4131.93</td>\n",
       "      <td>4.920787e+10</td>\n",
       "    </tr>\n",
       "    <tr>\n",
       "      <th>2792</th>\n",
       "      <td>2022-05-31</td>\n",
       "      <td>4130.61</td>\n",
       "      <td>4307.66</td>\n",
       "      <td>3810.32</td>\n",
       "      <td>4132.15</td>\n",
       "      <td>5.529092e+10</td>\n",
       "    </tr>\n",
       "    <tr>\n",
       "      <th>2793</th>\n",
       "      <td>2022-06-30</td>\n",
       "      <td>4149.78</td>\n",
       "      <td>4177.51</td>\n",
       "      <td>3636.94</td>\n",
       "      <td>3674.84</td>\n",
       "      <td>3.154142e+10</td>\n",
       "    </tr>\n",
       "  </tbody>\n",
       "</table>\n",
       "<p>2794 rows × 6 columns</p>\n",
       "</div>"
      ],
      "text/plain": [
       "            Date     Open     High      Low    Close        Volume\n",
       "0     1789-05-31     0.51     0.51     0.51     0.51           NaN\n",
       "1     1789-06-30     0.51     0.51     0.51     0.51           NaN\n",
       "2     1789-07-31     0.50     0.50     0.50     0.50           NaN\n",
       "3     1789-08-31     0.50     0.51     0.50     0.51           NaN\n",
       "4     1789-09-30     0.51     0.51     0.50     0.51           NaN\n",
       "...          ...      ...      ...      ...      ...           ...\n",
       "2789  2022-02-28  4519.57  4595.31  4114.65  4373.94  5.074627e+10\n",
       "2790  2022-03-31  4363.14  4637.30  4157.87  4530.41  6.190108e+10\n",
       "2791  2022-04-30  4540.32  4593.45  4124.28  4131.93  4.920787e+10\n",
       "2792  2022-05-31  4130.61  4307.66  3810.32  4132.15  5.529092e+10\n",
       "2793  2022-06-30  4149.78  4177.51  3636.94  3674.84  3.154142e+10\n",
       "\n",
       "[2794 rows x 6 columns]"
      ]
     },
     "execution_count": 44,
     "metadata": {},
     "output_type": "execute_result"
    }
   ],
   "source": [
    "spx = pd.read_csv('Data/^spx_m.csv')\n",
    "spx"
   ]
  },
  {
   "cell_type": "markdown",
   "metadata": {},
   "source": [
    "Pandas conveniently shows the column headers and the row indices for the first and last 5 rows.  The `NaN` (meaning Not-a-Number) occurs because all the rows before 1950 are missing the Volume element.  We can extract any of the columns like this:"
   ]
  },
  {
   "cell_type": "code",
   "execution_count": 45,
   "metadata": {},
   "outputs": [
    {
     "data": {
      "text/plain": [
       "0       1789-05-31\n",
       "1       1789-06-30\n",
       "2       1789-07-31\n",
       "3       1789-08-31\n",
       "4       1789-09-30\n",
       "           ...    \n",
       "2789    2022-02-28\n",
       "2790    2022-03-31\n",
       "2791    2022-04-30\n",
       "2792    2022-05-31\n",
       "2793    2022-06-30\n",
       "Name: Date, Length: 2794, dtype: object"
      ]
     },
     "execution_count": 45,
     "metadata": {},
     "output_type": "execute_result"
    }
   ],
   "source": [
    "spx['Date']"
   ]
  },
  {
   "cell_type": "markdown",
   "metadata": {},
   "source": [
    "Notice that this is of type `object`, which is not so useful.  We can convert it to date format so that pandas can arrange plotting with dates correctly."
   ]
  },
  {
   "cell_type": "code",
   "execution_count": 46,
   "metadata": {},
   "outputs": [
    {
     "data": {
      "text/plain": [
       "0      1789-05-31\n",
       "1      1789-06-30\n",
       "2      1789-07-31\n",
       "3      1789-08-31\n",
       "4      1789-09-30\n",
       "          ...    \n",
       "2789   2022-02-28\n",
       "2790   2022-03-31\n",
       "2791   2022-04-30\n",
       "2792   2022-05-31\n",
       "2793   2022-06-30\n",
       "Name: Date, Length: 2794, dtype: datetime64[ns]"
      ]
     },
     "execution_count": 46,
     "metadata": {},
     "output_type": "execute_result"
    }
   ],
   "source": [
    "spx['Date'] = pd.to_datetime(spx['Date'])\n",
    "spx['Date']"
   ]
  },
  {
   "cell_type": "markdown",
   "metadata": {},
   "source": [
    "Notice that the type is now: `datetime64[ns]`.  Let's make the `Date` be the index for the array, so that our plots will have `Date` on the horizontal axis:"
   ]
  },
  {
   "cell_type": "code",
   "execution_count": 60,
   "metadata": {},
   "outputs": [
    {
     "data": {
      "text/html": [
       "<div>\n",
       "<style scoped>\n",
       "    .dataframe tbody tr th:only-of-type {\n",
       "        vertical-align: middle;\n",
       "    }\n",
       "\n",
       "    .dataframe tbody tr th {\n",
       "        vertical-align: top;\n",
       "    }\n",
       "\n",
       "    .dataframe thead th {\n",
       "        text-align: right;\n",
       "    }\n",
       "</style>\n",
       "<table border=\"1\" class=\"dataframe\">\n",
       "  <thead>\n",
       "    <tr style=\"text-align: right;\">\n",
       "      <th></th>\n",
       "      <th>Open</th>\n",
       "      <th>High</th>\n",
       "      <th>Low</th>\n",
       "      <th>Close</th>\n",
       "      <th>Volume</th>\n",
       "    </tr>\n",
       "    <tr>\n",
       "      <th>Date</th>\n",
       "      <th></th>\n",
       "      <th></th>\n",
       "      <th></th>\n",
       "      <th></th>\n",
       "      <th></th>\n",
       "    </tr>\n",
       "  </thead>\n",
       "  <tbody>\n",
       "    <tr>\n",
       "      <th>1789-05-31</th>\n",
       "      <td>0.51</td>\n",
       "      <td>0.51</td>\n",
       "      <td>0.51</td>\n",
       "      <td>0.51</td>\n",
       "      <td>NaN</td>\n",
       "    </tr>\n",
       "    <tr>\n",
       "      <th>1789-06-30</th>\n",
       "      <td>0.51</td>\n",
       "      <td>0.51</td>\n",
       "      <td>0.51</td>\n",
       "      <td>0.51</td>\n",
       "      <td>NaN</td>\n",
       "    </tr>\n",
       "    <tr>\n",
       "      <th>1789-07-31</th>\n",
       "      <td>0.50</td>\n",
       "      <td>0.50</td>\n",
       "      <td>0.50</td>\n",
       "      <td>0.50</td>\n",
       "      <td>NaN</td>\n",
       "    </tr>\n",
       "    <tr>\n",
       "      <th>1789-08-31</th>\n",
       "      <td>0.50</td>\n",
       "      <td>0.51</td>\n",
       "      <td>0.50</td>\n",
       "      <td>0.51</td>\n",
       "      <td>NaN</td>\n",
       "    </tr>\n",
       "    <tr>\n",
       "      <th>1789-09-30</th>\n",
       "      <td>0.51</td>\n",
       "      <td>0.51</td>\n",
       "      <td>0.50</td>\n",
       "      <td>0.51</td>\n",
       "      <td>NaN</td>\n",
       "    </tr>\n",
       "    <tr>\n",
       "      <th>...</th>\n",
       "      <td>...</td>\n",
       "      <td>...</td>\n",
       "      <td>...</td>\n",
       "      <td>...</td>\n",
       "      <td>...</td>\n",
       "    </tr>\n",
       "    <tr>\n",
       "      <th>2022-02-28</th>\n",
       "      <td>4519.57</td>\n",
       "      <td>4595.31</td>\n",
       "      <td>4114.65</td>\n",
       "      <td>4373.94</td>\n",
       "      <td>5.074627e+10</td>\n",
       "    </tr>\n",
       "    <tr>\n",
       "      <th>2022-03-31</th>\n",
       "      <td>4363.14</td>\n",
       "      <td>4637.30</td>\n",
       "      <td>4157.87</td>\n",
       "      <td>4530.41</td>\n",
       "      <td>6.190108e+10</td>\n",
       "    </tr>\n",
       "    <tr>\n",
       "      <th>2022-04-30</th>\n",
       "      <td>4540.32</td>\n",
       "      <td>4593.45</td>\n",
       "      <td>4124.28</td>\n",
       "      <td>4131.93</td>\n",
       "      <td>4.920787e+10</td>\n",
       "    </tr>\n",
       "    <tr>\n",
       "      <th>2022-05-31</th>\n",
       "      <td>4130.61</td>\n",
       "      <td>4307.66</td>\n",
       "      <td>3810.32</td>\n",
       "      <td>4132.15</td>\n",
       "      <td>5.529092e+10</td>\n",
       "    </tr>\n",
       "    <tr>\n",
       "      <th>2022-06-30</th>\n",
       "      <td>4149.78</td>\n",
       "      <td>4177.51</td>\n",
       "      <td>3636.94</td>\n",
       "      <td>3674.84</td>\n",
       "      <td>3.154142e+10</td>\n",
       "    </tr>\n",
       "  </tbody>\n",
       "</table>\n",
       "<p>2794 rows × 5 columns</p>\n",
       "</div>"
      ],
      "text/plain": [
       "               Open     High      Low    Close        Volume\n",
       "Date                                                        \n",
       "1789-05-31     0.51     0.51     0.51     0.51           NaN\n",
       "1789-06-30     0.51     0.51     0.51     0.51           NaN\n",
       "1789-07-31     0.50     0.50     0.50     0.50           NaN\n",
       "1789-08-31     0.50     0.51     0.50     0.51           NaN\n",
       "1789-09-30     0.51     0.51     0.50     0.51           NaN\n",
       "...             ...      ...      ...      ...           ...\n",
       "2022-02-28  4519.57  4595.31  4114.65  4373.94  5.074627e+10\n",
       "2022-03-31  4363.14  4637.30  4157.87  4530.41  6.190108e+10\n",
       "2022-04-30  4540.32  4593.45  4124.28  4131.93  4.920787e+10\n",
       "2022-05-31  4130.61  4307.66  3810.32  4132.15  5.529092e+10\n",
       "2022-06-30  4149.78  4177.51  3636.94  3674.84  3.154142e+10\n",
       "\n",
       "[2794 rows x 5 columns]"
      ]
     },
     "execution_count": 60,
     "metadata": {},
     "output_type": "execute_result"
    }
   ],
   "source": [
    "spx.set_index('Date',inplace=True)  # Without doing inplace, a copy is made and spx is not updated\n",
    "spx"
   ]
  },
  {
   "cell_type": "markdown",
   "metadata": {},
   "source": [
    "Notice that `Date` is now the index column.  \n",
    "___\n",
    "# 3. Plotting Data Series\n",
    "\n",
    "Let's plot the stock price open price:"
   ]
  },
  {
   "cell_type": "code",
   "execution_count": 95,
   "metadata": {},
   "outputs": [
    {
     "data": {
      "text/plain": [
       "Text(0, 0.5, 'SPX')"
      ]
     },
     "execution_count": 95,
     "metadata": {},
     "output_type": "execute_result"
    },
    {
     "data": {
      "image/png": "[encoded data removed]",
      "text/plain": [
       "<Figure size 432x288 with 1 Axes>"
      ]
     },
     "metadata": {
      "needs_background": "light"
     },
     "output_type": "display_data"
    }
   ],
   "source": [
    "fig = plt.figure()\n",
    "spx['Close'].plot()\n",
    "plt.legend()\n",
    "plt.grid()\n",
    "plt.ylabel('SPX')"
   ]
  },
  {
   "cell_type": "markdown",
   "metadata": {},
   "source": [
    "It looks like most of the absolute gains occur since 2000, but we can use log scaling on the y axis to see relative gains (all without adjustment for inflation):"
   ]
  },
  {
   "cell_type": "code",
   "execution_count": 90,
   "metadata": {},
   "outputs": [
    {
     "data": {
      "text/plain": [
       "Text(0, 0.5, 'SPX')"
      ]
     },
     "execution_count": 90,
     "metadata": {},
     "output_type": "execute_result"
    },
    {
     "data": {
      "image/png": "[encoded data removed]",
      "text/plain": [
       "<Figure size 432x288 with 1 Axes>"
      ]
     },
     "metadata": {
      "needs_background": "light"
     },
     "output_type": "display_data"
    }
   ],
   "source": [
    "fig = plt.figure()\n",
    "spx['Close'].plot(logy=True)\n",
    "plt.legend()\n",
    "plt.grid()\n",
    "plt.ylabel('SPX')"
   ]
  },
  {
   "cell_type": "markdown",
   "metadata": {},
   "source": [
    "Let's extract all the data from the 1980's.  We'll use the colon slice operation, which for `pandas` indexing is inclusive of the first *and last* element, unlike for lists and arrays.  "
   ]
  },
  {
   "cell_type": "code",
   "execution_count": 63,
   "metadata": {},
   "outputs": [
    {
     "data": {
      "text/html": [
       "<div>\n",
       "<style scoped>\n",
       "    .dataframe tbody tr th:only-of-type {\n",
       "        vertical-align: middle;\n",
       "    }\n",
       "\n",
       "    .dataframe tbody tr th {\n",
       "        vertical-align: top;\n",
       "    }\n",
       "\n",
       "    .dataframe thead th {\n",
       "        text-align: right;\n",
       "    }\n",
       "</style>\n",
       "<table border=\"1\" class=\"dataframe\">\n",
       "  <thead>\n",
       "    <tr style=\"text-align: right;\">\n",
       "      <th></th>\n",
       "      <th>Open</th>\n",
       "      <th>High</th>\n",
       "      <th>Low</th>\n",
       "      <th>Close</th>\n",
       "      <th>Volume</th>\n",
       "    </tr>\n",
       "    <tr>\n",
       "      <th>Date</th>\n",
       "      <th></th>\n",
       "      <th></th>\n",
       "      <th></th>\n",
       "      <th></th>\n",
       "      <th></th>\n",
       "    </tr>\n",
       "  </thead>\n",
       "  <tbody>\n",
       "    <tr>\n",
       "      <th>1980-01-31</th>\n",
       "      <td>107.94</td>\n",
       "      <td>117.17</td>\n",
       "      <td>103.26</td>\n",
       "      <td>114.16</td>\n",
       "      <td>6.434667e+08</td>\n",
       "    </tr>\n",
       "    <tr>\n",
       "      <th>1980-02-29</th>\n",
       "      <td>114.16</td>\n",
       "      <td>120.22</td>\n",
       "      <td>111.33</td>\n",
       "      <td>113.66</td>\n",
       "      <td>5.314056e+08</td>\n",
       "    </tr>\n",
       "    <tr>\n",
       "      <th>1980-03-31</th>\n",
       "      <td>113.66</td>\n",
       "      <td>114.34</td>\n",
       "      <td>94.23</td>\n",
       "      <td>102.09</td>\n",
       "      <td>4.869167e+08</td>\n",
       "    </tr>\n",
       "    <tr>\n",
       "      <th>1980-04-30</th>\n",
       "      <td>102.09</td>\n",
       "      <td>106.79</td>\n",
       "      <td>98.95</td>\n",
       "      <td>106.29</td>\n",
       "      <td>3.745222e+08</td>\n",
       "    </tr>\n",
       "    <tr>\n",
       "      <th>1980-05-31</th>\n",
       "      <td>106.29</td>\n",
       "      <td>112.72</td>\n",
       "      <td>103.50</td>\n",
       "      <td>111.24</td>\n",
       "      <td>4.249556e+08</td>\n",
       "    </tr>\n",
       "    <tr>\n",
       "      <th>...</th>\n",
       "      <td>...</td>\n",
       "      <td>...</td>\n",
       "      <td>...</td>\n",
       "      <td>...</td>\n",
       "      <td>...</td>\n",
       "    </tr>\n",
       "    <tr>\n",
       "      <th>1989-08-31</th>\n",
       "      <td>346.08</td>\n",
       "      <td>352.73</td>\n",
       "      <td>339.00</td>\n",
       "      <td>351.45</td>\n",
       "      <td>2.193944e+09</td>\n",
       "    </tr>\n",
       "    <tr>\n",
       "      <th>1989-09-30</th>\n",
       "      <td>351.45</td>\n",
       "      <td>354.13</td>\n",
       "      <td>341.37</td>\n",
       "      <td>349.15</td>\n",
       "      <td>1.686122e+09</td>\n",
       "    </tr>\n",
       "    <tr>\n",
       "      <th>1989-10-31</th>\n",
       "      <td>349.15</td>\n",
       "      <td>360.44</td>\n",
       "      <td>327.12</td>\n",
       "      <td>340.36</td>\n",
       "      <td>2.229261e+09</td>\n",
       "    </tr>\n",
       "    <tr>\n",
       "      <th>1989-11-30</th>\n",
       "      <td>340.36</td>\n",
       "      <td>346.50</td>\n",
       "      <td>330.91</td>\n",
       "      <td>345.99</td>\n",
       "      <td>1.684533e+09</td>\n",
       "    </tr>\n",
       "    <tr>\n",
       "      <th>1989-12-31</th>\n",
       "      <td>346.01</td>\n",
       "      <td>354.10</td>\n",
       "      <td>339.63</td>\n",
       "      <td>353.40</td>\n",
       "      <td>1.785233e+09</td>\n",
       "    </tr>\n",
       "  </tbody>\n",
       "</table>\n",
       "<p>120 rows × 5 columns</p>\n",
       "</div>"
      ],
      "text/plain": [
       "              Open    High     Low   Close        Volume\n",
       "Date                                                    \n",
       "1980-01-31  107.94  117.17  103.26  114.16  6.434667e+08\n",
       "1980-02-29  114.16  120.22  111.33  113.66  5.314056e+08\n",
       "1980-03-31  113.66  114.34   94.23  102.09  4.869167e+08\n",
       "1980-04-30  102.09  106.79   98.95  106.29  3.745222e+08\n",
       "1980-05-31  106.29  112.72  103.50  111.24  4.249556e+08\n",
       "...            ...     ...     ...     ...           ...\n",
       "1989-08-31  346.08  352.73  339.00  351.45  2.193944e+09\n",
       "1989-09-30  351.45  354.13  341.37  349.15  1.686122e+09\n",
       "1989-10-31  349.15  360.44  327.12  340.36  2.229261e+09\n",
       "1989-11-30  340.36  346.50  330.91  345.99  1.684533e+09\n",
       "1989-12-31  346.01  354.10  339.63  353.40  1.785233e+09\n",
       "\n",
       "[120 rows x 5 columns]"
      ]
     },
     "execution_count": 63,
     "metadata": {},
     "output_type": "execute_result"
    }
   ],
   "source": [
    "spx80s = spx['1980-01-01':'1989-12-31']\n",
    "spx80s\n"
   ]
  },
  {
   "cell_type": "markdown",
   "metadata": {},
   "source": [
    "Now let's plot the month gains and losses for this time period as bars  Here's a simple way to do that:"
   ]
  },
  {
   "cell_type": "code",
   "execution_count": 94,
   "metadata": {},
   "outputs": [
    {
     "data": {
      "text/plain": [
       "Text(0, 0.5, 'SPX')"
      ]
     },
     "execution_count": 94,
     "metadata": {},
     "output_type": "execute_result"
    },
    {
     "data": {
      "image/png": "[encoded data removed]",
      "text/plain": [
       "<Figure size 1008x432 with 1 Axes>"
      ]
     },
     "metadata": {
      "needs_background": "light"
     },
     "output_type": "display_data"
    }
   ],
   "source": [
    "fig = plt.figure(figsize=(14,6))\n",
    "monthly_gain = np.abs(spx80s['Close']-spx80s['Open'])       # bar height is absolute difference\n",
    "monthly_bottom = np.minimum(spx80s['Open'],spx80s['Close']) # bar bottom is minimum of open and close\n",
    "plt.bar( spx80s.index, monthly_gain, bottom=monthly_bottom, width=24,color=(0,0,0.5))  # bar width is 24 days\n",
    "plt.grid()\n",
    "plt.ylabel('SPX')\n",
    "plt.title('1980s Stock Values')"
   ]
  },
  {
   "cell_type": "markdown",
   "metadata": {},
   "source": [
    "It is a bit more informative if we plot gains and losses in different colors.  We can do that as follows:"
   ]
  },
  {
   "cell_type": "code",
   "execution_count": 123,
   "metadata": {},
   "outputs": [
    {
     "data": {
      "text/plain": [
       "Text(0.5, 1.0, '1980s Stock Values')"
      ]
     },
     "execution_count": 123,
     "metadata": {},
     "output_type": "execute_result"
    },
    {
     "data": {
      "image/png": "[encoded data removed]",
      "text/plain": [
       "<Figure size 1008x432 with 1 Axes>"
      ]
     },
     "metadata": {
      "needs_background": "light"
     },
     "output_type": "display_data"
    }
   ],
   "source": [
    "fig = plt.figure(figsize=(14,6))\n",
    "monthly_gain = spx80s['Close']-spx80s['Open']\n",
    "pos = monthly_gain>0        # An array with True for gains and False for loses\n",
    "neg = np.logical_not(pos)   # The logical not of pos\n",
    "monthly_bottom = np.minimum(spx80s['Open'],spx80s['Close'])\n",
    "plt.bar( spx80s.index[pos], monthly_gain[pos], bottom=monthly_bottom[pos], width=24,color=(0,.8,0))\n",
    "plt.bar( spx80s.index[neg], -monthly_gain[neg], bottom=monthly_bottom[neg], width=24,color=(.8,0,0))\n",
    "plt.grid()\n",
    "plt.ylabel('SPX')\n",
    "plt.title('1980s Stock Values')"
   ]
  },
  {
   "cell_type": "markdown",
   "metadata": {},
   "source": [
    "Another way to look at the data is whether or not the current closing price is the highest it has been or if it is lower than a previous close.  Let's do this analysis for all months since 1920."
   ]
  },
  {
   "cell_type": "code",
   "execution_count": 125,
   "metadata": {},
   "outputs": [
    {
     "name": "stderr",
     "output_type": "stream",
     "text": [
      "C:\\Users\\morri\\AppData\\Local\\Temp\\ipykernel_22900\\1862798657.py:13: SettingWithCopyWarning: \n",
      "A value is trying to be set on a copy of a slice from a DataFrame.\n",
      "Try using .loc[row_indexer,col_indexer] = value instead\n",
      "\n",
      "See the caveats in the documentation: https://pandas.pydata.org/pandas-docs/stable/user_guide/indexing.html#returning-a-view-versus-a-copy\n",
      "  spx20['New High'] = spx20['Close'].copy()   # These are new highs.  Use .copy() as otherwise returns a reference\n",
      "C:\\Users\\morri\\AppData\\Local\\Temp\\ipykernel_22900\\1862798657.py:15: SettingWithCopyWarning: \n",
      "A value is trying to be set on a copy of a slice from a DataFrame.\n",
      "Try using .loc[row_indexer,col_indexer] = value instead\n",
      "\n",
      "See the caveats in the documentation: https://pandas.pydata.org/pandas-docs/stable/user_guide/indexing.html#returning-a-view-versus-a-copy\n",
      "  spx20['Lower'] = spx20['Close'].copy()      # These are lower than previous highs\n"
     ]
    }
   ],
   "source": [
    "# First find which closes are higher than pervious values:\n",
    "spx20 = spx['1919-12-31'::]\n",
    "new_high = []\n",
    "high_so_far=0\n",
    "for close in spx20['Close']:\n",
    "    if close > high_so_far:\n",
    "        new_high.append(True)\n",
    "        high_so_far = close\n",
    "    else:\n",
    "        new_high.append(False)\n",
    "new_high = np.array(new_high)\n",
    "not_high = np.logical_not(new_high)\n",
    "spx20['New High'] = spx20['Close'].copy()   # These are new highs.  Use .copy() as otherwise returns a reference\n",
    "spx20.loc[not_high,'New High'] = np.nan\n",
    "spx20['Lower'] = spx20['Close'].copy()      # These are lower than previous highs\n",
    "spx20.loc[new_high,'Lower'] = np.nan\n"
   ]
  },
  {
   "cell_type": "code",
   "execution_count": 124,
   "metadata": {},
   "outputs": [
    {
     "data": {
      "image/png": "[encoded data removed]",
      "text/plain": [
       "<Figure size 1008x720 with 1 Axes>"
      ]
     },
     "metadata": {
      "needs_background": "light"
     },
     "output_type": "display_data"
    }
   ],
   "source": [
    "fig = plt.figure(figsize=(14,10))\n",
    "spx20['New High'].plot(logy=True, marker='s', markersize=2,  color=(0,0.8,0))\n",
    "spx20['Lower'].plot(logy=True, color=(0.8,0,0))\n",
    "plt.legend()\n",
    "# I want vertical grid lines to align with the start of each decade:\n",
    "datelist = pd.date_range(start='1920-01-01', periods=11, freq=pd.offsets.MonthBegin(120))\n",
    "plt.xticks(datelist,datelist.year)\n",
    "plt.grid()"
   ]
  },
  {
   "cell_type": "markdown",
   "metadata": {},
   "source": [
    "It is interesting to compare the stock index performance over various decades.  Note that inflation is not accounted fo, so real gains are lower than shown here."
   ]
  },
  {
   "cell_type": "markdown",
   "metadata": {},
   "source": [
    "___\n",
    "### [Outline](README.md)"
   ]
  }
 ],
 "metadata": {
  "kernelspec": {
   "display_name": "Python 3.9.12 ('basic')",
   "language": "python",
   "name": "python3"
  },
  "language_info": {
   "codemirror_mode": {
    "name": "ipython",
    "version": 3
   },
   "file_extension": ".py",
   "mimetype": "text/x-python",
   "name": "python",
   "nbconvert_exporter": "python",
   "pygments_lexer": "ipython3",
   "version": "3.9.13"
  },
  "orig_nbformat": 4,
  "vscode": {
   "interpreter": {
    "hash": "53e2749c903124bcb77c73a8e4bdc9f454c2769f07e2d95583bdcf26be5d92b4"
   }
  }
 },
 "nbformat": 4,
 "nbformat_minor": 2
}
