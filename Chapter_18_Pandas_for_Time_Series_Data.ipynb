{
 "cells": [
  {
   "cell_type": "markdown",
   "metadata": {},
   "source": [
    "# Chapter 18: Pandas for Time Series Data\n",
    "\n",
    "If you are considering investing money in the stock market, it is useful to analyze its historical price, as this gives clues into what is possible for future price changes.  Now you can find stock market plots online, but they are usually pretty limiting in what you can see, and you may want to plot something different from what is available.  The natural solution is to find the raw data online and to use Python to plot exactly the aspects of the data in which you are interested.  This chapter provides an example of doing just that, and it shows the ease by which you can make quite sophisticated plots of stock price changes.  By showing you what is possible with a few lines of code, my hope is that you'll take it to the next level in analyzing and plotting your own data, be it stock prices or any other time series data.\n",
    "\n",
    "This chapter primarily uses the **Pandas** toolbox to read in and organize data in series form along with Matplotlib for various plotting functions.  Only very basic functionality will be shown, but it is easy to modify and extend the ideas as well as follow other online examples.  For a quick but intense introduction to Pandas, see: https://pandas.pydata.org/docs/user_guide/10min.html.   \n",
    "\n",
    "Note that this page is a Jupyter notebook which means you can interactively run the Python commands and make modifications.  I recommend editing it within Visual Studio Code and optionally making a copy that you can use to experiment with modifying portions of the code.  "
   ]
  },
  {
   "cell_type": "markdown",
   "metadata": {},
   "source": [
    "___\n",
    "## 1. Set up Python\n",
    "\n",
    "You'll need Python and Visual Studio Code installed, see [Chapter 2](Chapter_02_Installation_and_IDE.md).  Then set these up as follows:\n",
    "\n",
    "### In a terminal window:\n",
    "Activate your virtual environment if you have one, see [Chapter 12](Chapter_12_Virtual_Environments.md).  Then install the following toolboxes:\n",
    "```\n",
    "$ python -m pip install pandas matplotlib jupyter\n",
    "```\n",
    "### In Visual Studio Code:\n",
    "Make sure the *Python extension* is installed from the marketplace.  (If you open a Python file and the extension is not installed, then VSCode will prompt you to install it.)\n",
    "\n",
    "Make sure you have selected your Python virtual environment that you want to use for the `python_intro` folder or workspace.  This is done by pressing `ctrl-shift-p`.  Then type `python: select interpreter`.  If your virtual environment is one of the options, select it, otherwise provide the path to the `python.exe` executable within your Python virtual environment.\n",
    "\n",
    "Install the VSCode Jupyter extension available in the marketplace.  This will enable you to interactively run the commands in this document.  Opening this file will prompt you to install the Jupyter extension if it is not already installed.\n",
    "\n",
    "Next you are ready to load the necessary libraries.  Run the next block of code:"
   ]
  },
  {
   "cell_type": "code",
   "execution_count": 1,
   "metadata": {},
   "outputs": [],
   "source": [
    "import pandas as pd\n",
    "import numpy as np\n",
    "import matplotlib.pyplot as plt"
   ]
  },
  {
   "cell_type": "markdown",
   "metadata": {},
   "source": [
    "These `import` commands load the 3 packages we need and will enable us to use `pd` to refer to pandas, `np` for numpy and `plt` for matplotlib's pyplot.\n",
    "___\n",
    "## 2. Read and Organize Stockmarket Values\n",
    "\n",
    "A convenient and relatively large dataset is the S&P 500 stock index named `SPX`.  Download monthly historical data on for `SPX` from this website: https://stooq.com/q/d/?s=%5Espx&c=0&i=m, and copy the file `^spx_m.csv` to the `Data` folder within the current folder. If you open this file in a text editor you will see the top few lines contain a header line and data with elements separated by commas.  The `.csv` stands for *comma separated values*:\n",
    "```\n",
    "Date,Open,High,Low,Close,Volume\n",
    "1789-05-31,0.51,0.51,0.51,0.51\n",
    "1789-06-30,0.51,0.51,0.51,0.51\n",
    "1789-07-31,0.5,0.5,0.5,0.5\n",
    "1789-08-31,0.5,0.51,0.5,0.51\n",
    "...\n",
    "```\n",
    "Let's load this using `pandas` and take a look at the contents:"
   ]
  },
  {
   "cell_type": "code",
   "execution_count": 2,
   "metadata": {},
   "outputs": [
    {
     "data": {
      "text/html": [
       "<div>\n",
       "<style scoped>\n",
       "    .dataframe tbody tr th:only-of-type {\n",
       "        vertical-align: middle;\n",
       "    }\n",
       "\n",
       "    .dataframe tbody tr th {\n",
       "        vertical-align: top;\n",
       "    }\n",
       "\n",
       "    .dataframe thead th {\n",
       "        text-align: right;\n",
       "    }\n",
       "</style>\n",
       "<table border=\"1\" class=\"dataframe\">\n",
       "  <thead>\n",
       "    <tr style=\"text-align: right;\">\n",
       "      <th></th>\n",
       "      <th>Date</th>\n",
       "      <th>Open</th>\n",
       "      <th>High</th>\n",
       "      <th>Low</th>\n",
       "      <th>Close</th>\n",
       "      <th>Volume</th>\n",
       "    </tr>\n",
       "  </thead>\n",
       "  <tbody>\n",
       "    <tr>\n",
       "      <th>0</th>\n",
       "      <td>1789-05-31</td>\n",
       "      <td>0.51</td>\n",
       "      <td>0.51</td>\n",
       "      <td>0.51</td>\n",
       "      <td>0.51</td>\n",
       "      <td>NaN</td>\n",
       "    </tr>\n",
       "    <tr>\n",
       "      <th>1</th>\n",
       "      <td>1789-06-30</td>\n",
       "      <td>0.51</td>\n",
       "      <td>0.51</td>\n",
       "      <td>0.51</td>\n",
       "      <td>0.51</td>\n",
       "      <td>NaN</td>\n",
       "    </tr>\n",
       "    <tr>\n",
       "      <th>2</th>\n",
       "      <td>1789-07-31</td>\n",
       "      <td>0.50</td>\n",
       "      <td>0.50</td>\n",
       "      <td>0.50</td>\n",
       "      <td>0.50</td>\n",
       "      <td>NaN</td>\n",
       "    </tr>\n",
       "    <tr>\n",
       "      <th>3</th>\n",
       "      <td>1789-08-31</td>\n",
       "      <td>0.50</td>\n",
       "      <td>0.51</td>\n",
       "      <td>0.50</td>\n",
       "      <td>0.51</td>\n",
       "      <td>NaN</td>\n",
       "    </tr>\n",
       "    <tr>\n",
       "      <th>4</th>\n",
       "      <td>1789-09-30</td>\n",
       "      <td>0.51</td>\n",
       "      <td>0.51</td>\n",
       "      <td>0.50</td>\n",
       "      <td>0.51</td>\n",
       "      <td>NaN</td>\n",
       "    </tr>\n",
       "    <tr>\n",
       "      <th>...</th>\n",
       "      <td>...</td>\n",
       "      <td>...</td>\n",
       "      <td>...</td>\n",
       "      <td>...</td>\n",
       "      <td>...</td>\n",
       "      <td>...</td>\n",
       "    </tr>\n",
       "    <tr>\n",
       "      <th>2789</th>\n",
       "      <td>2022-02-28</td>\n",
       "      <td>4519.57</td>\n",
       "      <td>4595.31</td>\n",
       "      <td>4114.65</td>\n",
       "      <td>4373.94</td>\n",
       "      <td>5.074627e+10</td>\n",
       "    </tr>\n",
       "    <tr>\n",
       "      <th>2790</th>\n",
       "      <td>2022-03-31</td>\n",
       "      <td>4363.14</td>\n",
       "      <td>4637.30</td>\n",
       "      <td>4157.87</td>\n",
       "      <td>4530.41</td>\n",
       "      <td>6.190108e+10</td>\n",
       "    </tr>\n",
       "    <tr>\n",
       "      <th>2791</th>\n",
       "      <td>2022-04-30</td>\n",
       "      <td>4540.32</td>\n",
       "      <td>4593.45</td>\n",
       "      <td>4124.28</td>\n",
       "      <td>4131.93</td>\n",
       "      <td>4.920787e+10</td>\n",
       "    </tr>\n",
       "    <tr>\n",
       "      <th>2792</th>\n",
       "      <td>2022-05-31</td>\n",
       "      <td>4130.61</td>\n",
       "      <td>4307.66</td>\n",
       "      <td>3810.32</td>\n",
       "      <td>4132.15</td>\n",
       "      <td>5.529092e+10</td>\n",
       "    </tr>\n",
       "    <tr>\n",
       "      <th>2793</th>\n",
       "      <td>2022-06-30</td>\n",
       "      <td>4149.78</td>\n",
       "      <td>4177.51</td>\n",
       "      <td>3636.94</td>\n",
       "      <td>3674.84</td>\n",
       "      <td>3.154142e+10</td>\n",
       "    </tr>\n",
       "  </tbody>\n",
       "</table>\n",
       "<p>2794 rows × 6 columns</p>\n",
       "</div>"
      ],
      "text/plain": [
       "            Date     Open     High      Low    Close        Volume\n",
       "0     1789-05-31     0.51     0.51     0.51     0.51           NaN\n",
       "1     1789-06-30     0.51     0.51     0.51     0.51           NaN\n",
       "2     1789-07-31     0.50     0.50     0.50     0.50           NaN\n",
       "3     1789-08-31     0.50     0.51     0.50     0.51           NaN\n",
       "4     1789-09-30     0.51     0.51     0.50     0.51           NaN\n",
       "...          ...      ...      ...      ...      ...           ...\n",
       "2789  2022-02-28  4519.57  4595.31  4114.65  4373.94  5.074627e+10\n",
       "2790  2022-03-31  4363.14  4637.30  4157.87  4530.41  6.190108e+10\n",
       "2791  2022-04-30  4540.32  4593.45  4124.28  4131.93  4.920787e+10\n",
       "2792  2022-05-31  4130.61  4307.66  3810.32  4132.15  5.529092e+10\n",
       "2793  2022-06-30  4149.78  4177.51  3636.94  3674.84  3.154142e+10\n",
       "\n",
       "[2794 rows x 6 columns]"
      ]
     },
     "execution_count": 2,
     "metadata": {},
     "output_type": "execute_result"
    }
   ],
   "source": [
    "spx = pd.read_csv('Data/^spx_m.csv')\n",
    "spx"
   ]
  },
  {
   "cell_type": "markdown",
   "metadata": {},
   "source": [
    "Pandas reads the data into a `DataFrame` object, a special data type defined by `pandas`.  Typing `spx` on a new line will display this `DataFrame` object in a convenient summarized form with column headers and the row indices for the first 5 rows and last 5 rows.  The `NaN` (meaning Not-a-Number) occurs because all the rows before 1950 are missing the Volume element.  We can extract any of the rows using `.loc[index]` like this:"
   ]
  },
  {
   "cell_type": "code",
   "execution_count": 3,
   "metadata": {},
   "outputs": [
    {
     "data": {
      "text/plain": [
       "Date         2022-06-30\n",
       "Open            4149.78\n",
       "High            4177.51\n",
       "Low             3636.94\n",
       "Close           3674.84\n",
       "Volume    31541419945.0\n",
       "Name: 2793, dtype: object"
      ]
     },
     "execution_count": 3,
     "metadata": {},
     "output_type": "execute_result"
    }
   ],
   "source": [
    "spx.loc[2793]"
   ]
  },
  {
   "cell_type": "markdown",
   "metadata": {},
   "source": [
    "Or select a subset of rows using slicing (that is inclusive of first and last element):"
   ]
  },
  {
   "cell_type": "code",
   "execution_count": 4,
   "metadata": {},
   "outputs": [
    {
     "data": {
      "text/html": [
       "<div>\n",
       "<style scoped>\n",
       "    .dataframe tbody tr th:only-of-type {\n",
       "        vertical-align: middle;\n",
       "    }\n",
       "\n",
       "    .dataframe tbody tr th {\n",
       "        vertical-align: top;\n",
       "    }\n",
       "\n",
       "    .dataframe thead th {\n",
       "        text-align: right;\n",
       "    }\n",
       "</style>\n",
       "<table border=\"1\" class=\"dataframe\">\n",
       "  <thead>\n",
       "    <tr style=\"text-align: right;\">\n",
       "      <th></th>\n",
       "      <th>Date</th>\n",
       "      <th>Open</th>\n",
       "      <th>High</th>\n",
       "      <th>Low</th>\n",
       "      <th>Close</th>\n",
       "      <th>Volume</th>\n",
       "    </tr>\n",
       "  </thead>\n",
       "  <tbody>\n",
       "    <tr>\n",
       "      <th>2000</th>\n",
       "      <td>1956-05-31</td>\n",
       "      <td>48.16</td>\n",
       "      <td>48.51</td>\n",
       "      <td>44.10</td>\n",
       "      <td>45.20</td>\n",
       "      <td>29561112.0</td>\n",
       "    </tr>\n",
       "    <tr>\n",
       "      <th>2001</th>\n",
       "      <td>1956-06-30</td>\n",
       "      <td>45.58</td>\n",
       "      <td>47.13</td>\n",
       "      <td>45.14</td>\n",
       "      <td>46.97</td>\n",
       "      <td>20655557.0</td>\n",
       "    </tr>\n",
       "    <tr>\n",
       "      <th>2002</th>\n",
       "      <td>1956-07-31</td>\n",
       "      <td>46.93</td>\n",
       "      <td>49.48</td>\n",
       "      <td>46.93</td>\n",
       "      <td>49.39</td>\n",
       "      <td>25361108.0</td>\n",
       "    </tr>\n",
       "    <tr>\n",
       "      <th>2003</th>\n",
       "      <td>1956-08-31</td>\n",
       "      <td>49.62</td>\n",
       "      <td>49.64</td>\n",
       "      <td>46.94</td>\n",
       "      <td>47.51</td>\n",
       "      <td>24694445.0</td>\n",
       "    </tr>\n",
       "    <tr>\n",
       "      <th>2004</th>\n",
       "      <td>1956-09-30</td>\n",
       "      <td>47.89</td>\n",
       "      <td>48.10</td>\n",
       "      <td>45.35</td>\n",
       "      <td>45.35</td>\n",
       "      <td>20677776.0</td>\n",
       "    </tr>\n",
       "    <tr>\n",
       "      <th>2005</th>\n",
       "      <td>1956-10-31</td>\n",
       "      <td>44.70</td>\n",
       "      <td>47.00</td>\n",
       "      <td>44.70</td>\n",
       "      <td>45.58</td>\n",
       "      <td>22388889.0</td>\n",
       "    </tr>\n",
       "  </tbody>\n",
       "</table>\n",
       "</div>"
      ],
      "text/plain": [
       "            Date   Open   High    Low  Close      Volume\n",
       "2000  1956-05-31  48.16  48.51  44.10  45.20  29561112.0\n",
       "2001  1956-06-30  45.58  47.13  45.14  46.97  20655557.0\n",
       "2002  1956-07-31  46.93  49.48  46.93  49.39  25361108.0\n",
       "2003  1956-08-31  49.62  49.64  46.94  47.51  24694445.0\n",
       "2004  1956-09-30  47.89  48.10  45.35  45.35  20677776.0\n",
       "2005  1956-10-31  44.70  47.00  44.70  45.58  22388889.0"
      ]
     },
     "execution_count": 4,
     "metadata": {},
     "output_type": "execute_result"
    }
   ],
   "source": [
    "spx.loc[2000:2005]"
   ]
  },
  {
   "cell_type": "markdown",
   "metadata": {},
   "source": [
    "Or specify a single element by giving the row index and column name like this:"
   ]
  },
  {
   "cell_type": "code",
   "execution_count": 5,
   "metadata": {},
   "outputs": [
    {
     "data": {
      "text/plain": [
       "'1956-05-31'"
      ]
     },
     "execution_count": 5,
     "metadata": {},
     "output_type": "execute_result"
    }
   ],
   "source": [
    "spx.loc[2000,'Date']"
   ]
  },
  {
   "cell_type": "markdown",
   "metadata": {},
   "source": [
    "Each column is a `Series` object and can be selected like this:"
   ]
  },
  {
   "cell_type": "code",
   "execution_count": 6,
   "metadata": {},
   "outputs": [
    {
     "data": {
      "text/plain": [
       "0          0.51\n",
       "1          0.51\n",
       "2          0.50\n",
       "3          0.51\n",
       "4          0.51\n",
       "         ...   \n",
       "2789    4373.94\n",
       "2790    4530.41\n",
       "2791    4131.93\n",
       "2792    4132.15\n",
       "2793    3674.84\n",
       "Name: Close, Length: 2794, dtype: float64"
      ]
     },
     "execution_count": 6,
     "metadata": {},
     "output_type": "execute_result"
    }
   ],
   "source": [
    "spx['Close']"
   ]
  },
  {
   "cell_type": "markdown",
   "metadata": {},
   "source": [
    "Let's plot the monthly closing price over the whole time history:"
   ]
  },
  {
   "cell_type": "code",
   "execution_count": 7,
   "metadata": {},
   "outputs": [
    {
     "data": {
      "text/plain": [
       "Text(0.5, 1.0, 'SPX ($)')"
      ]
     },
     "execution_count": 7,
     "metadata": {},
     "output_type": "execute_result"
    },
    {
     "data": {
      "image/png": "[encoded data removed]",
      "text/plain": [
       "<Figure size 432x288 with 1 Axes>"
      ]
     },
     "metadata": {
      "needs_background": "light"
     },
     "output_type": "display_data"
    }
   ],
   "source": [
    "fig = plt.figure()\n",
    "spx['Close'].plot()\n",
    "plt.legend()\n",
    "plt.grid()\n",
    "plt.title('SPX ($)')"
   ]
  },
  {
   "cell_type": "markdown",
   "metadata": {},
   "source": [
    "We can see the historical price change, but using a month index for the abscissa is pretty awkward.  Really, we would like the date along the abscissa, so let's examine the date column: "
   ]
  },
  {
   "cell_type": "code",
   "execution_count": 8,
   "metadata": {},
   "outputs": [
    {
     "data": {
      "text/plain": [
       "0       1789-05-31\n",
       "1       1789-06-30\n",
       "2       1789-07-31\n",
       "3       1789-08-31\n",
       "4       1789-09-30\n",
       "           ...    \n",
       "2789    2022-02-28\n",
       "2790    2022-03-31\n",
       "2791    2022-04-30\n",
       "2792    2022-05-31\n",
       "2793    2022-06-30\n",
       "Name: Date, Length: 2794, dtype: object"
      ]
     },
     "execution_count": 8,
     "metadata": {},
     "output_type": "execute_result"
    }
   ],
   "source": [
    "spx['Date']"
   ]
  },
  {
   "cell_type": "markdown",
   "metadata": {},
   "source": [
    "Notice that even though this series contains dates, is of type `object`, which means it could be anything.  We can convert it to a date format that `pandas` recognizes and can use for indexing and plotting with dates correctly."
   ]
  },
  {
   "cell_type": "code",
   "execution_count": 9,
   "metadata": {},
   "outputs": [
    {
     "data": {
      "text/plain": [
       "0      1789-05-31\n",
       "1      1789-06-30\n",
       "2      1789-07-31\n",
       "3      1789-08-31\n",
       "4      1789-09-30\n",
       "          ...    \n",
       "2789   2022-02-28\n",
       "2790   2022-03-31\n",
       "2791   2022-04-30\n",
       "2792   2022-05-31\n",
       "2793   2022-06-30\n",
       "Name: Date, Length: 2794, dtype: datetime64[ns]"
      ]
     },
     "execution_count": 9,
     "metadata": {},
     "output_type": "execute_result"
    }
   ],
   "source": [
    "spx['Date'] = pd.to_datetime(spx['Date'])\n",
    "spx['Date']"
   ]
  },
  {
   "cell_type": "markdown",
   "metadata": {},
   "source": [
    "Notice that the type is now: `datetime64[ns]`, which Pandas knows how to manage as a date.  Finally, let's make the `Date` column be the index for the array, so that our plots can truly be functions of the date:"
   ]
  },
  {
   "cell_type": "code",
   "execution_count": 10,
   "metadata": {},
   "outputs": [
    {
     "data": {
      "text/html": [
       "<div>\n",
       "<style scoped>\n",
       "    .dataframe tbody tr th:only-of-type {\n",
       "        vertical-align: middle;\n",
       "    }\n",
       "\n",
       "    .dataframe tbody tr th {\n",
       "        vertical-align: top;\n",
       "    }\n",
       "\n",
       "    .dataframe thead th {\n",
       "        text-align: right;\n",
       "    }\n",
       "</style>\n",
       "<table border=\"1\" class=\"dataframe\">\n",
       "  <thead>\n",
       "    <tr style=\"text-align: right;\">\n",
       "      <th></th>\n",
       "      <th>Open</th>\n",
       "      <th>High</th>\n",
       "      <th>Low</th>\n",
       "      <th>Close</th>\n",
       "      <th>Volume</th>\n",
       "    </tr>\n",
       "    <tr>\n",
       "      <th>Date</th>\n",
       "      <th></th>\n",
       "      <th></th>\n",
       "      <th></th>\n",
       "      <th></th>\n",
       "      <th></th>\n",
       "    </tr>\n",
       "  </thead>\n",
       "  <tbody>\n",
       "    <tr>\n",
       "      <th>1789-05-31</th>\n",
       "      <td>0.51</td>\n",
       "      <td>0.51</td>\n",
       "      <td>0.51</td>\n",
       "      <td>0.51</td>\n",
       "      <td>NaN</td>\n",
       "    </tr>\n",
       "    <tr>\n",
       "      <th>1789-06-30</th>\n",
       "      <td>0.51</td>\n",
       "      <td>0.51</td>\n",
       "      <td>0.51</td>\n",
       "      <td>0.51</td>\n",
       "      <td>NaN</td>\n",
       "    </tr>\n",
       "    <tr>\n",
       "      <th>1789-07-31</th>\n",
       "      <td>0.50</td>\n",
       "      <td>0.50</td>\n",
       "      <td>0.50</td>\n",
       "      <td>0.50</td>\n",
       "      <td>NaN</td>\n",
       "    </tr>\n",
       "    <tr>\n",
       "      <th>1789-08-31</th>\n",
       "      <td>0.50</td>\n",
       "      <td>0.51</td>\n",
       "      <td>0.50</td>\n",
       "      <td>0.51</td>\n",
       "      <td>NaN</td>\n",
       "    </tr>\n",
       "    <tr>\n",
       "      <th>1789-09-30</th>\n",
       "      <td>0.51</td>\n",
       "      <td>0.51</td>\n",
       "      <td>0.50</td>\n",
       "      <td>0.51</td>\n",
       "      <td>NaN</td>\n",
       "    </tr>\n",
       "    <tr>\n",
       "      <th>...</th>\n",
       "      <td>...</td>\n",
       "      <td>...</td>\n",
       "      <td>...</td>\n",
       "      <td>...</td>\n",
       "      <td>...</td>\n",
       "    </tr>\n",
       "    <tr>\n",
       "      <th>2022-02-28</th>\n",
       "      <td>4519.57</td>\n",
       "      <td>4595.31</td>\n",
       "      <td>4114.65</td>\n",
       "      <td>4373.94</td>\n",
       "      <td>5.074627e+10</td>\n",
       "    </tr>\n",
       "    <tr>\n",
       "      <th>2022-03-31</th>\n",
       "      <td>4363.14</td>\n",
       "      <td>4637.30</td>\n",
       "      <td>4157.87</td>\n",
       "      <td>4530.41</td>\n",
       "      <td>6.190108e+10</td>\n",
       "    </tr>\n",
       "    <tr>\n",
       "      <th>2022-04-30</th>\n",
       "      <td>4540.32</td>\n",
       "      <td>4593.45</td>\n",
       "      <td>4124.28</td>\n",
       "      <td>4131.93</td>\n",
       "      <td>4.920787e+10</td>\n",
       "    </tr>\n",
       "    <tr>\n",
       "      <th>2022-05-31</th>\n",
       "      <td>4130.61</td>\n",
       "      <td>4307.66</td>\n",
       "      <td>3810.32</td>\n",
       "      <td>4132.15</td>\n",
       "      <td>5.529092e+10</td>\n",
       "    </tr>\n",
       "    <tr>\n",
       "      <th>2022-06-30</th>\n",
       "      <td>4149.78</td>\n",
       "      <td>4177.51</td>\n",
       "      <td>3636.94</td>\n",
       "      <td>3674.84</td>\n",
       "      <td>3.154142e+10</td>\n",
       "    </tr>\n",
       "  </tbody>\n",
       "</table>\n",
       "<p>2794 rows × 5 columns</p>\n",
       "</div>"
      ],
      "text/plain": [
       "               Open     High      Low    Close        Volume\n",
       "Date                                                        \n",
       "1789-05-31     0.51     0.51     0.51     0.51           NaN\n",
       "1789-06-30     0.51     0.51     0.51     0.51           NaN\n",
       "1789-07-31     0.50     0.50     0.50     0.50           NaN\n",
       "1789-08-31     0.50     0.51     0.50     0.51           NaN\n",
       "1789-09-30     0.51     0.51     0.50     0.51           NaN\n",
       "...             ...      ...      ...      ...           ...\n",
       "2022-02-28  4519.57  4595.31  4114.65  4373.94  5.074627e+10\n",
       "2022-03-31  4363.14  4637.30  4157.87  4530.41  6.190108e+10\n",
       "2022-04-30  4540.32  4593.45  4124.28  4131.93  4.920787e+10\n",
       "2022-05-31  4130.61  4307.66  3810.32  4132.15  5.529092e+10\n",
       "2022-06-30  4149.78  4177.51  3636.94  3674.84  3.154142e+10\n",
       "\n",
       "[2794 rows x 5 columns]"
      ]
     },
     "execution_count": 10,
     "metadata": {},
     "output_type": "execute_result"
    }
   ],
   "source": [
    "spx.set_index('Date',inplace=True)  # Without doing inplace, a copy is made and spx is not updated\n",
    "spx"
   ]
  },
  {
   "cell_type": "markdown",
   "metadata": {},
   "source": [
    "Notice that `Date` is now the index column.  Let's select some rows using the date index.  For example, we can select all rows within year 2000 with:"
   ]
  },
  {
   "cell_type": "code",
   "execution_count": 11,
   "metadata": {},
   "outputs": [
    {
     "data": {
      "text/html": [
       "<div>\n",
       "<style scoped>\n",
       "    .dataframe tbody tr th:only-of-type {\n",
       "        vertical-align: middle;\n",
       "    }\n",
       "\n",
       "    .dataframe tbody tr th {\n",
       "        vertical-align: top;\n",
       "    }\n",
       "\n",
       "    .dataframe thead th {\n",
       "        text-align: right;\n",
       "    }\n",
       "</style>\n",
       "<table border=\"1\" class=\"dataframe\">\n",
       "  <thead>\n",
       "    <tr style=\"text-align: right;\">\n",
       "      <th></th>\n",
       "      <th>Open</th>\n",
       "      <th>High</th>\n",
       "      <th>Low</th>\n",
       "      <th>Close</th>\n",
       "      <th>Volume</th>\n",
       "    </tr>\n",
       "    <tr>\n",
       "      <th>Date</th>\n",
       "      <th></th>\n",
       "      <th></th>\n",
       "      <th></th>\n",
       "      <th></th>\n",
       "      <th></th>\n",
       "    </tr>\n",
       "  </thead>\n",
       "  <tbody>\n",
       "    <tr>\n",
       "      <th>2000-01-31</th>\n",
       "      <td>1469.25</td>\n",
       "      <td>1478.00</td>\n",
       "      <td>1350.14</td>\n",
       "      <td>1394.46</td>\n",
       "      <td>1.194133e+10</td>\n",
       "    </tr>\n",
       "    <tr>\n",
       "      <th>2000-02-29</th>\n",
       "      <td>1394.46</td>\n",
       "      <td>1444.55</td>\n",
       "      <td>1325.07</td>\n",
       "      <td>1366.42</td>\n",
       "      <td>1.161778e+10</td>\n",
       "    </tr>\n",
       "    <tr>\n",
       "      <th>2000-03-31</th>\n",
       "      <td>1366.42</td>\n",
       "      <td>1552.87</td>\n",
       "      <td>1346.62</td>\n",
       "      <td>1498.58</td>\n",
       "      <td>1.453122e+10</td>\n",
       "    </tr>\n",
       "    <tr>\n",
       "      <th>2000-04-30</th>\n",
       "      <td>1498.58</td>\n",
       "      <td>1527.19</td>\n",
       "      <td>1339.40</td>\n",
       "      <td>1452.43</td>\n",
       "      <td>1.117026e+10</td>\n",
       "    </tr>\n",
       "    <tr>\n",
       "      <th>2000-05-31</th>\n",
       "      <td>1452.43</td>\n",
       "      <td>1481.51</td>\n",
       "      <td>1361.09</td>\n",
       "      <td>1420.60</td>\n",
       "      <td>1.105461e+10</td>\n",
       "    </tr>\n",
       "    <tr>\n",
       "      <th>2000-06-30</th>\n",
       "      <td>1420.60</td>\n",
       "      <td>1488.93</td>\n",
       "      <td>1420.60</td>\n",
       "      <td>1454.60</td>\n",
       "      <td>1.207683e+10</td>\n",
       "    </tr>\n",
       "    <tr>\n",
       "      <th>2000-07-31</th>\n",
       "      <td>1454.60</td>\n",
       "      <td>1517.32</td>\n",
       "      <td>1413.89</td>\n",
       "      <td>1430.83</td>\n",
       "      <td>1.060506e+10</td>\n",
       "    </tr>\n",
       "    <tr>\n",
       "      <th>2000-08-31</th>\n",
       "      <td>1430.83</td>\n",
       "      <td>1525.21</td>\n",
       "      <td>1425.43</td>\n",
       "      <td>1517.68</td>\n",
       "      <td>1.131317e+10</td>\n",
       "    </tr>\n",
       "    <tr>\n",
       "      <th>2000-09-30</th>\n",
       "      <td>1517.68</td>\n",
       "      <td>1530.09</td>\n",
       "      <td>1419.44</td>\n",
       "      <td>1436.51</td>\n",
       "      <td>1.157683e+10</td>\n",
       "    </tr>\n",
       "    <tr>\n",
       "      <th>2000-10-31</th>\n",
       "      <td>1436.52</td>\n",
       "      <td>1454.82</td>\n",
       "      <td>1305.79</td>\n",
       "      <td>1429.40</td>\n",
       "      <td>1.441744e+10</td>\n",
       "    </tr>\n",
       "    <tr>\n",
       "      <th>2000-11-30</th>\n",
       "      <td>1429.40</td>\n",
       "      <td>1438.46</td>\n",
       "      <td>1294.90</td>\n",
       "      <td>1314.95</td>\n",
       "      <td>1.140683e+10</td>\n",
       "    </tr>\n",
       "    <tr>\n",
       "      <th>2000-12-31</th>\n",
       "      <td>1314.95</td>\n",
       "      <td>1389.05</td>\n",
       "      <td>1254.07</td>\n",
       "      <td>1320.28</td>\n",
       "      <td>1.311711e+10</td>\n",
       "    </tr>\n",
       "  </tbody>\n",
       "</table>\n",
       "</div>"
      ],
      "text/plain": [
       "               Open     High      Low    Close        Volume\n",
       "Date                                                        \n",
       "2000-01-31  1469.25  1478.00  1350.14  1394.46  1.194133e+10\n",
       "2000-02-29  1394.46  1444.55  1325.07  1366.42  1.161778e+10\n",
       "2000-03-31  1366.42  1552.87  1346.62  1498.58  1.453122e+10\n",
       "2000-04-30  1498.58  1527.19  1339.40  1452.43  1.117026e+10\n",
       "2000-05-31  1452.43  1481.51  1361.09  1420.60  1.105461e+10\n",
       "2000-06-30  1420.60  1488.93  1420.60  1454.60  1.207683e+10\n",
       "2000-07-31  1454.60  1517.32  1413.89  1430.83  1.060506e+10\n",
       "2000-08-31  1430.83  1525.21  1425.43  1517.68  1.131317e+10\n",
       "2000-09-30  1517.68  1530.09  1419.44  1436.51  1.157683e+10\n",
       "2000-10-31  1436.52  1454.82  1305.79  1429.40  1.441744e+10\n",
       "2000-11-30  1429.40  1438.46  1294.90  1314.95  1.140683e+10\n",
       "2000-12-31  1314.95  1389.05  1254.07  1320.28  1.311711e+10"
      ]
     },
     "execution_count": 11,
     "metadata": {},
     "output_type": "execute_result"
    }
   ],
   "source": [
    "spx.loc['2000']"
   ]
  },
  {
   "cell_type": "markdown",
   "metadata": {},
   "source": [
    "___\n",
    "## 3. Plotting Time Series\n",
    "\n",
    "Now that our data are indexed by date, let's redo the stock price plot from earlier with exactly the same code:"
   ]
  },
  {
   "cell_type": "code",
   "execution_count": 12,
   "metadata": {},
   "outputs": [
    {
     "data": {
      "text/plain": [
       "Text(0.5, 1.0, 'SPX ($)')"
      ]
     },
     "execution_count": 12,
     "metadata": {},
     "output_type": "execute_result"
    },
    {
     "data": {
      "image/png": "[encoded data removed]",
      "text/plain": [
       "<Figure size 432x288 with 1 Axes>"
      ]
     },
     "metadata": {
      "needs_background": "light"
     },
     "output_type": "display_data"
    }
   ],
   "source": [
    "fig = plt.figure()\n",
    "spx['Close'].plot()\n",
    "plt.legend()\n",
    "plt.grid()\n",
    "plt.title('SPX ($)')"
   ]
  },
  {
   "cell_type": "markdown",
   "metadata": {},
   "source": [
    "Like magic, the abscissa contains the date -- all because we set the index to be `spx['Date']` and made sure this date column is a date type.  \n",
    "\n",
    "Now it looks like most of the absolute gains occur since 2000, but we can use log scaling on the y axis to see relative gains (all without adjustment for inflation):"
   ]
  },
  {
   "cell_type": "code",
   "execution_count": 13,
   "metadata": {},
   "outputs": [
    {
     "data": {
      "text/plain": [
       "Text(0.5, 1.0, 'SPX ($)')"
      ]
     },
     "execution_count": 13,
     "metadata": {},
     "output_type": "execute_result"
    },
    {
     "data": {
      "image/png": "[encoded data removed]",
      "text/plain": [
       "<Figure size 432x288 with 1 Axes>"
      ]
     },
     "metadata": {
      "needs_background": "light"
     },
     "output_type": "display_data"
    }
   ],
   "source": [
    "fig = plt.figure()\n",
    "spx['Close'].plot(logy=True)\n",
    "plt.legend()\n",
    "plt.grid()\n",
    "plt.title('SPX ($)')"
   ]
  },
  {
   "cell_type": "markdown",
   "metadata": {},
   "source": [
    "Let's extract all the data from the 1980's.  We'll use the colon slice operation, which for `pandas` indexing is inclusive of the first *and last* element, unlike for lists and arrays.  "
   ]
  },
  {
   "cell_type": "code",
   "execution_count": 14,
   "metadata": {},
   "outputs": [
    {
     "data": {
      "text/html": [
       "<div>\n",
       "<style scoped>\n",
       "    .dataframe tbody tr th:only-of-type {\n",
       "        vertical-align: middle;\n",
       "    }\n",
       "\n",
       "    .dataframe tbody tr th {\n",
       "        vertical-align: top;\n",
       "    }\n",
       "\n",
       "    .dataframe thead th {\n",
       "        text-align: right;\n",
       "    }\n",
       "</style>\n",
       "<table border=\"1\" class=\"dataframe\">\n",
       "  <thead>\n",
       "    <tr style=\"text-align: right;\">\n",
       "      <th></th>\n",
       "      <th>Open</th>\n",
       "      <th>High</th>\n",
       "      <th>Low</th>\n",
       "      <th>Close</th>\n",
       "      <th>Volume</th>\n",
       "    </tr>\n",
       "    <tr>\n",
       "      <th>Date</th>\n",
       "      <th></th>\n",
       "      <th></th>\n",
       "      <th></th>\n",
       "      <th></th>\n",
       "      <th></th>\n",
       "    </tr>\n",
       "  </thead>\n",
       "  <tbody>\n",
       "    <tr>\n",
       "      <th>1980-01-31</th>\n",
       "      <td>107.94</td>\n",
       "      <td>117.17</td>\n",
       "      <td>103.26</td>\n",
       "      <td>114.16</td>\n",
       "      <td>6.434667e+08</td>\n",
       "    </tr>\n",
       "    <tr>\n",
       "      <th>1980-02-29</th>\n",
       "      <td>114.16</td>\n",
       "      <td>120.22</td>\n",
       "      <td>111.33</td>\n",
       "      <td>113.66</td>\n",
       "      <td>5.314056e+08</td>\n",
       "    </tr>\n",
       "    <tr>\n",
       "      <th>1980-03-31</th>\n",
       "      <td>113.66</td>\n",
       "      <td>114.34</td>\n",
       "      <td>94.23</td>\n",
       "      <td>102.09</td>\n",
       "      <td>4.869167e+08</td>\n",
       "    </tr>\n",
       "    <tr>\n",
       "      <th>1980-04-30</th>\n",
       "      <td>102.09</td>\n",
       "      <td>106.79</td>\n",
       "      <td>98.95</td>\n",
       "      <td>106.29</td>\n",
       "      <td>3.745222e+08</td>\n",
       "    </tr>\n",
       "    <tr>\n",
       "      <th>1980-05-31</th>\n",
       "      <td>106.29</td>\n",
       "      <td>112.72</td>\n",
       "      <td>103.50</td>\n",
       "      <td>111.24</td>\n",
       "      <td>4.249556e+08</td>\n",
       "    </tr>\n",
       "    <tr>\n",
       "      <th>...</th>\n",
       "      <td>...</td>\n",
       "      <td>...</td>\n",
       "      <td>...</td>\n",
       "      <td>...</td>\n",
       "      <td>...</td>\n",
       "    </tr>\n",
       "    <tr>\n",
       "      <th>1989-08-31</th>\n",
       "      <td>346.08</td>\n",
       "      <td>352.73</td>\n",
       "      <td>339.00</td>\n",
       "      <td>351.45</td>\n",
       "      <td>2.193944e+09</td>\n",
       "    </tr>\n",
       "    <tr>\n",
       "      <th>1989-09-30</th>\n",
       "      <td>351.45</td>\n",
       "      <td>354.13</td>\n",
       "      <td>341.37</td>\n",
       "      <td>349.15</td>\n",
       "      <td>1.686122e+09</td>\n",
       "    </tr>\n",
       "    <tr>\n",
       "      <th>1989-10-31</th>\n",
       "      <td>349.15</td>\n",
       "      <td>360.44</td>\n",
       "      <td>327.12</td>\n",
       "      <td>340.36</td>\n",
       "      <td>2.229261e+09</td>\n",
       "    </tr>\n",
       "    <tr>\n",
       "      <th>1989-11-30</th>\n",
       "      <td>340.36</td>\n",
       "      <td>346.50</td>\n",
       "      <td>330.91</td>\n",
       "      <td>345.99</td>\n",
       "      <td>1.684533e+09</td>\n",
       "    </tr>\n",
       "    <tr>\n",
       "      <th>1989-12-31</th>\n",
       "      <td>346.01</td>\n",
       "      <td>354.10</td>\n",
       "      <td>339.63</td>\n",
       "      <td>353.40</td>\n",
       "      <td>1.785233e+09</td>\n",
       "    </tr>\n",
       "  </tbody>\n",
       "</table>\n",
       "<p>120 rows × 5 columns</p>\n",
       "</div>"
      ],
      "text/plain": [
       "              Open    High     Low   Close        Volume\n",
       "Date                                                    \n",
       "1980-01-31  107.94  117.17  103.26  114.16  6.434667e+08\n",
       "1980-02-29  114.16  120.22  111.33  113.66  5.314056e+08\n",
       "1980-03-31  113.66  114.34   94.23  102.09  4.869167e+08\n",
       "1980-04-30  102.09  106.79   98.95  106.29  3.745222e+08\n",
       "1980-05-31  106.29  112.72  103.50  111.24  4.249556e+08\n",
       "...            ...     ...     ...     ...           ...\n",
       "1989-08-31  346.08  352.73  339.00  351.45  2.193944e+09\n",
       "1989-09-30  351.45  354.13  341.37  349.15  1.686122e+09\n",
       "1989-10-31  349.15  360.44  327.12  340.36  2.229261e+09\n",
       "1989-11-30  340.36  346.50  330.91  345.99  1.684533e+09\n",
       "1989-12-31  346.01  354.10  339.63  353.40  1.785233e+09\n",
       "\n",
       "[120 rows x 5 columns]"
      ]
     },
     "execution_count": 14,
     "metadata": {},
     "output_type": "execute_result"
    }
   ],
   "source": [
    "spx80s = spx['1980-01-01':'1989-12-31']\n",
    "spx80s\n"
   ]
  },
  {
   "cell_type": "markdown",
   "metadata": {},
   "source": [
    "Because of this inclusive indexing, we could make the same selection as follows:"
   ]
  },
  {
   "cell_type": "code",
   "execution_count": 15,
   "metadata": {},
   "outputs": [
    {
     "data": {
      "text/html": [
       "<div>\n",
       "<style scoped>\n",
       "    .dataframe tbody tr th:only-of-type {\n",
       "        vertical-align: middle;\n",
       "    }\n",
       "\n",
       "    .dataframe tbody tr th {\n",
       "        vertical-align: top;\n",
       "    }\n",
       "\n",
       "    .dataframe thead th {\n",
       "        text-align: right;\n",
       "    }\n",
       "</style>\n",
       "<table border=\"1\" class=\"dataframe\">\n",
       "  <thead>\n",
       "    <tr style=\"text-align: right;\">\n",
       "      <th></th>\n",
       "      <th>Open</th>\n",
       "      <th>High</th>\n",
       "      <th>Low</th>\n",
       "      <th>Close</th>\n",
       "      <th>Volume</th>\n",
       "    </tr>\n",
       "    <tr>\n",
       "      <th>Date</th>\n",
       "      <th></th>\n",
       "      <th></th>\n",
       "      <th></th>\n",
       "      <th></th>\n",
       "      <th></th>\n",
       "    </tr>\n",
       "  </thead>\n",
       "  <tbody>\n",
       "    <tr>\n",
       "      <th>1980-01-31</th>\n",
       "      <td>107.94</td>\n",
       "      <td>117.17</td>\n",
       "      <td>103.26</td>\n",
       "      <td>114.16</td>\n",
       "      <td>6.434667e+08</td>\n",
       "    </tr>\n",
       "    <tr>\n",
       "      <th>1980-02-29</th>\n",
       "      <td>114.16</td>\n",
       "      <td>120.22</td>\n",
       "      <td>111.33</td>\n",
       "      <td>113.66</td>\n",
       "      <td>5.314056e+08</td>\n",
       "    </tr>\n",
       "    <tr>\n",
       "      <th>1980-03-31</th>\n",
       "      <td>113.66</td>\n",
       "      <td>114.34</td>\n",
       "      <td>94.23</td>\n",
       "      <td>102.09</td>\n",
       "      <td>4.869167e+08</td>\n",
       "    </tr>\n",
       "    <tr>\n",
       "      <th>1980-04-30</th>\n",
       "      <td>102.09</td>\n",
       "      <td>106.79</td>\n",
       "      <td>98.95</td>\n",
       "      <td>106.29</td>\n",
       "      <td>3.745222e+08</td>\n",
       "    </tr>\n",
       "    <tr>\n",
       "      <th>1980-05-31</th>\n",
       "      <td>106.29</td>\n",
       "      <td>112.72</td>\n",
       "      <td>103.50</td>\n",
       "      <td>111.24</td>\n",
       "      <td>4.249556e+08</td>\n",
       "    </tr>\n",
       "    <tr>\n",
       "      <th>...</th>\n",
       "      <td>...</td>\n",
       "      <td>...</td>\n",
       "      <td>...</td>\n",
       "      <td>...</td>\n",
       "      <td>...</td>\n",
       "    </tr>\n",
       "    <tr>\n",
       "      <th>1989-08-31</th>\n",
       "      <td>346.08</td>\n",
       "      <td>352.73</td>\n",
       "      <td>339.00</td>\n",
       "      <td>351.45</td>\n",
       "      <td>2.193944e+09</td>\n",
       "    </tr>\n",
       "    <tr>\n",
       "      <th>1989-09-30</th>\n",
       "      <td>351.45</td>\n",
       "      <td>354.13</td>\n",
       "      <td>341.37</td>\n",
       "      <td>349.15</td>\n",
       "      <td>1.686122e+09</td>\n",
       "    </tr>\n",
       "    <tr>\n",
       "      <th>1989-10-31</th>\n",
       "      <td>349.15</td>\n",
       "      <td>360.44</td>\n",
       "      <td>327.12</td>\n",
       "      <td>340.36</td>\n",
       "      <td>2.229261e+09</td>\n",
       "    </tr>\n",
       "    <tr>\n",
       "      <th>1989-11-30</th>\n",
       "      <td>340.36</td>\n",
       "      <td>346.50</td>\n",
       "      <td>330.91</td>\n",
       "      <td>345.99</td>\n",
       "      <td>1.684533e+09</td>\n",
       "    </tr>\n",
       "    <tr>\n",
       "      <th>1989-12-31</th>\n",
       "      <td>346.01</td>\n",
       "      <td>354.10</td>\n",
       "      <td>339.63</td>\n",
       "      <td>353.40</td>\n",
       "      <td>1.785233e+09</td>\n",
       "    </tr>\n",
       "  </tbody>\n",
       "</table>\n",
       "<p>120 rows × 5 columns</p>\n",
       "</div>"
      ],
      "text/plain": [
       "              Open    High     Low   Close        Volume\n",
       "Date                                                    \n",
       "1980-01-31  107.94  117.17  103.26  114.16  6.434667e+08\n",
       "1980-02-29  114.16  120.22  111.33  113.66  5.314056e+08\n",
       "1980-03-31  113.66  114.34   94.23  102.09  4.869167e+08\n",
       "1980-04-30  102.09  106.79   98.95  106.29  3.745222e+08\n",
       "1980-05-31  106.29  112.72  103.50  111.24  4.249556e+08\n",
       "...            ...     ...     ...     ...           ...\n",
       "1989-08-31  346.08  352.73  339.00  351.45  2.193944e+09\n",
       "1989-09-30  351.45  354.13  341.37  349.15  1.686122e+09\n",
       "1989-10-31  349.15  360.44  327.12  340.36  2.229261e+09\n",
       "1989-11-30  340.36  346.50  330.91  345.99  1.684533e+09\n",
       "1989-12-31  346.01  354.10  339.63  353.40  1.785233e+09\n",
       "\n",
       "[120 rows x 5 columns]"
      ]
     },
     "execution_count": 15,
     "metadata": {},
     "output_type": "execute_result"
    }
   ],
   "source": [
    "spx['1980':'1989']"
   ]
  },
  {
   "cell_type": "markdown",
   "metadata": {},
   "source": [
    "Now let's plot the month gains and losses for this time period as bars  Here's a simple way to do that:"
   ]
  },
  {
   "cell_type": "code",
   "execution_count": 16,
   "metadata": {},
   "outputs": [
    {
     "data": {
      "text/plain": [
       "Text(0.5, 1.0, '1980s SPX Monthly Gains and Losses ($)')"
      ]
     },
     "execution_count": 16,
     "metadata": {},
     "output_type": "execute_result"
    },
    {
     "data": {
      "image/png": "[encoded data removed]",
      "text/plain": [
       "<Figure size 1008x432 with 1 Axes>"
      ]
     },
     "metadata": {
      "needs_background": "light"
     },
     "output_type": "display_data"
    }
   ],
   "source": [
    "fig = plt.figure(figsize=(14,6))\n",
    "monthly_gain = np.abs(spx80s['Close']-spx80s['Open'])       # bar height is absolute difference\n",
    "monthly_bottom = np.minimum(spx80s['Open'],spx80s['Close']) # bar bottom is minimum of open and close\n",
    "plt.bar( spx80s.index, monthly_gain, bottom=monthly_bottom, width=24,color=(0,0,0.5))  # bar width is 24 days\n",
    "plt.grid()\n",
    "plt.title('1980s SPX Monthly Gains and Losses ($)')"
   ]
  },
  {
   "cell_type": "markdown",
   "metadata": {},
   "source": [
    "It is a bit more informative if we plot gains and losses in different colors.  We can do that as follows:"
   ]
  },
  {
   "cell_type": "code",
   "execution_count": 17,
   "metadata": {},
   "outputs": [
    {
     "data": {
      "text/plain": [
       "Text(0.5, 1.0, '1980s SPX Monthly Gains and Losses ($)')"
      ]
     },
     "execution_count": 17,
     "metadata": {},
     "output_type": "execute_result"
    },
    {
     "data": {
      "image/png": "[encoded data removed]",
      "text/plain": [
       "<Figure size 1008x432 with 1 Axes>"
      ]
     },
     "metadata": {
      "needs_background": "light"
     },
     "output_type": "display_data"
    }
   ],
   "source": [
    "fig = plt.figure(figsize=(14,6))\n",
    "monthly_gain = spx80s['Close']-spx80s['Open']\n",
    "pos = monthly_gain>0        # An array with True for gains and False for loses\n",
    "neg = np.logical_not(pos)   # The logical not of pos\n",
    "monthly_bottom = np.minimum(spx80s['Open'],spx80s['Close'])\n",
    "plt.bar( spx80s.index[pos], monthly_gain[pos], bottom=monthly_bottom[pos], width=24,color=(0,.8,0))\n",
    "plt.bar( spx80s.index[neg], -monthly_gain[neg], bottom=monthly_bottom[neg], width=24,color=(.8,0,0))\n",
    "plt.grid()\n",
    "plt.title('1980s SPX Monthly Gains and Losses ($)')"
   ]
  },
  {
   "cell_type": "markdown",
   "metadata": {},
   "source": [
    "Another way to look at the data is whether or not the current closing price is the highest closing price to far, or if it is lower than a previous close.  Let's do this analysis for all months since 1920."
   ]
  },
  {
   "cell_type": "code",
   "execution_count": 18,
   "metadata": {},
   "outputs": [],
   "source": [
    "# Create new DataFrame from 1920 and on:\n",
    "spx20 = spx['1919-12-31'::]\n",
    "# Add two columns to it that initially are just copies of the closing price:\n",
    "spx20 = pd.concat( [spx20, spx20['Close'].copy().rename('New High Close'), spx20['Close'].copy().rename('Lower Close')], axis=1)\n",
    "# Now find which elements are new high closes\n",
    "new_high = []\n",
    "high_so_far=0\n",
    "for close_price in spx20['Close']:\n",
    "    if close_price > high_so_far:\n",
    "        new_high.append(True)\n",
    "        high_so_far = close_price\n",
    "    else:\n",
    "        new_high.append(False)\n",
    "new_high = np.array(new_high)\n",
    "spx20.loc[np.logical_not(new_high),'New High Close'] = np.nan \n",
    "spx20.loc[new_high,'Lower Close'] = np.nan "
   ]
  },
  {
   "cell_type": "markdown",
   "metadata": {},
   "source": [
    "Now we're ready to plot the data"
   ]
  },
  {
   "cell_type": "code",
   "execution_count": 19,
   "metadata": {},
   "outputs": [
    {
     "data": {
      "image/png": "[encoded data removed]",
      "text/plain": [
       "<Figure size 720x432 with 1 Axes>"
      ]
     },
     "metadata": {
      "needs_background": "light"
     },
     "output_type": "display_data"
    }
   ],
   "source": [
    "fig = plt.figure(figsize=(10,6))\n",
    "spx20['New High Close'].plot(logy=True, marker='s', markersize=2,  color=(0,0.8,0))\n",
    "spx20['Lower Close'].plot(logy=True, color=(0.8,0,0))\n",
    "plt.legend()\n",
    "plt.grid()"
   ]
  },
  {
   "cell_type": "markdown",
   "metadata": {},
   "source": [
    "Notice the grid lines are not very convenient for comparing decades.  Let's create a series of dates to mark the start of each decade.  The frequency is every 120 months at the start of the month."
   ]
  },
  {
   "cell_type": "code",
   "execution_count": 20,
   "metadata": {},
   "outputs": [
    {
     "data": {
      "text/plain": [
       "DatetimeIndex(['1920-01-01', '1930-01-01', '1940-01-01', '1950-01-01',\n",
       "               '1960-01-01', '1970-01-01', '1980-01-01', '1990-01-01',\n",
       "               '2000-01-01', '2010-01-01', '2020-01-01'],\n",
       "              dtype='datetime64[ns]', freq='120MS')"
      ]
     },
     "execution_count": 20,
     "metadata": {},
     "output_type": "execute_result"
    }
   ],
   "source": [
    "date_list = pd.date_range(start='1920', periods=11, freq=pd.offsets.MonthBegin(120))\n",
    "date_list"
   ]
  },
  {
   "cell_type": "markdown",
   "metadata": {},
   "source": [
    "Now lets redo the plot with the new grid"
   ]
  },
  {
   "cell_type": "code",
   "execution_count": 21,
   "metadata": {},
   "outputs": [
    {
     "data": {
      "image/png": "[encoded data removed]",
      "text/plain": [
       "<Figure size 1008x720 with 1 Axes>"
      ]
     },
     "metadata": {
      "needs_background": "light"
     },
     "output_type": "display_data"
    }
   ],
   "source": [
    "fig = plt.figure(figsize=(14,10))\n",
    "spx20['New High Close'].plot(logy=True, marker='s', markersize=2,  color=(0,0.8,0))\n",
    "spx20['Lower Close'].plot(logy=True, color=(0.8,0,0))\n",
    "plt.legend()\n",
    "plt.xticks(date_list, date_list.year) # This sets the vertical grid lines and labels\n",
    "plt.title('SPX Closing Prices ($)')\n",
    "plt.grid()"
   ]
  },
  {
   "cell_type": "markdown",
   "metadata": {},
   "source": [
    "It is interesting to compare the stock index performance over various decades, and also to observe extended periods in which the price remains below the previous high.  Note also that inflation is not accounted for, so real gains are lower than shown here."
   ]
  },
  {
   "cell_type": "markdown",
   "metadata": {},
   "source": [
    "___\n",
    "### [Outline](README.md)"
   ]
  }
 ],
 "metadata": {
  "kernelspec": {
   "display_name": "Python 3.9.12 ('basic')",
   "language": "python",
   "name": "python3"
  },
  "language_info": {
   "codemirror_mode": {
    "name": "ipython",
    "version": 3
   },
   "file_extension": ".py",
   "mimetype": "text/x-python",
   "name": "python",
   "nbconvert_exporter": "python",
   "pygments_lexer": "ipython3",
   "version": "3.9.13"
  },
  "orig_nbformat": 4,
  "vscode": {
   "interpreter": {
    "hash": "53e2749c903124bcb77c73a8e4bdc9f454c2769f07e2d95583bdcf26be5d92b4"
   }
  }
 },
 "nbformat": 4,
 "nbformat_minor": 2
}
