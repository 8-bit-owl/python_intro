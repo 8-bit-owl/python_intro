{
 "cells": [
  {
   "cell_type": "markdown",
   "metadata": {},
   "source": [
    "# Chapter 13: Mathematical Tools\n",
    "\n",
    "One of the main reasons Python is so popular is that a vast array of tools easily available and usable directly in the language.  This chapter introduces some key some mathematical packages useful for data science and engineering.  Each tool has its own extensive documentation, and the goal of this chapter is just to motivate you to explore and use these packages.\n",
    "\n",
    "**Numpy** is mathematical package that supports multidimensional arrays and operations on them such as matrix multiplication and linear algebra, see: [https://numpy.org/doc/](https://numpy.org/doc/).  All of the other packages described here rely on Numpy.  It is important to be familiar with multidimensional arrays and various ways they can be manipulated and accessed.\n",
    "\n",
    "**Scipy** is a collection of mathematical and statistical tools built on Numpy.  Tools include various representations for rotations, as well as clustering, interpolation, sparse arrays, and statistical distributions.   Documentation is available here: [https://docs.scipy.org/doc/scipy/tutorial/general.html](https://docs.scipy.org/doc/scipy/tutorial/general.html).  \n",
    "\n",
    "**Matplotlib** is a powerful toolbox for 2D and 3D plotting, see: [https://matplotlib.org/](https://matplotlib.org/).  \n",
    "\n",
    "**OpenCV** provides many image processing and computer vision tools.  While written in C++, it provides a fairly extensive Python interface, enabling it to be used as a Python toolbox, see: [https://docs.opencv.org/4.5.3/](https://docs.opencv.org/4.5.3/)."
   ]
  },
  {
   "cell_type": "markdown",
   "metadata": {},
   "source": [
    "\n",
    "\n",
    "## Installation and Help\n",
    "\n",
    "It is best to install these tools in a virtual environment, see [Chapter 12](Chapter_12_Virtual_Environments.md).  First **activate** your virtual environment and then, from the shell command line, install them with\n",
    "```\n",
    "python -m pip install numpy scipy matplotlib opencv-python\n",
    "```\n",
    "If a package is already installed, this will simply skip it.  Also, any packages that are prerequisites will be installed. \n",
    "\n",
    "Now, after the packages are installed they can be accessed by running Python and using the `import` command as explained in [Chapter 11: Modules and Packages](Chapter_11_Modules_and_Packages.md).  For example, Numpy is usually imported with"
   ]
  },
  {
   "cell_type": "code",
   "execution_count": 2,
   "metadata": {},
   "outputs": [],
   "source": [
    "import numpy as np"
   ]
  },
  {
   "cell_type": "markdown",
   "metadata": {},
   "source": [
    "Besides online documentation, you can get documentation in your interactive terminal with the `help()` function.  For example if you want to know how the numpy cross product works, you would type:"
   ]
  },
  {
   "cell_type": "code",
   "execution_count": 7,
   "metadata": {},
   "outputs": [
    {
     "name": "stdout",
     "output_type": "stream",
     "text": [
      "Help on function cross in module numpy:\n",
      "\n",
      "cross(a, b, axisa=-1, axisb=-1, axisc=-1, axis=None)\n",
      "    Return the cross product of two (arrays of) vectors.\n",
      "    \n",
      "    The cross product of `a` and `b` in :math:`R^3` is a vector perpendicular\n",
      "    to both `a` and `b`.  If `a` and `b` are arrays of vectors, the vectors\n",
      "    are defined by the last axis of `a` and `b` by default, and these axes\n",
      "    can have dimensions 2 or 3.  Where the dimension of either `a` or `b` is\n",
      "    2, the third component of the input vector is assumed to be zero and the\n",
      "    cross product calculated accordingly.  In cases where both input vectors\n",
      "    have dimension 2, the z-component of the cross product is returned.\n",
      "    \n",
      "    Parameters\n",
      "    ----------\n",
      "    a : array_like\n",
      "        Components of the first vector(s).\n",
      "    b : array_like\n",
      "        Components of the second vector(s).\n",
      "    axisa : int, optional\n",
      "        Axis of `a` that defines the vector(s).  By default, the last axis.\n",
      "    axisb : int, optional\n",
      "        Axis of `b` that defines the vector(s).  By default, the last axis.\n",
      "    axisc : int, optional\n",
      "        Axis of `c` containing the cross product vector(s).  Ignored if\n",
      "        both input vectors have dimension 2, as the return is scalar.\n",
      "        By default, the last axis.\n",
      "    axis : int, optional\n",
      "        If defined, the axis of `a`, `b` and `c` that defines the vector(s)\n",
      "        and cross product(s).  Overrides `axisa`, `axisb` and `axisc`.\n",
      "    \n",
      "    Returns\n",
      "    -------\n",
      "    c : ndarray\n",
      "        Vector cross product(s).\n",
      "    \n",
      "    Raises\n",
      "    ------\n",
      "    ValueError\n",
      "        When the dimension of the vector(s) in `a` and/or `b` does not\n",
      "        equal 2 or 3.\n",
      "    \n",
      "    See Also\n",
      "    --------\n",
      "    inner : Inner product\n",
      "    outer : Outer product.\n",
      "    ix_ : Construct index arrays.\n",
      "    \n",
      "    Notes\n",
      "    -----\n",
      "    .. versionadded:: 1.9.0\n",
      "    \n",
      "    Supports full broadcasting of the inputs.\n",
      "    \n",
      "    Examples\n",
      "    --------\n",
      "    Vector cross-product.\n",
      "    \n",
      "    >>> x = [1, 2, 3]\n",
      "    >>> y = [4, 5, 6]\n",
      "    >>> np.cross(x, y)\n",
      "    array([-3,  6, -3])\n",
      "    \n",
      "    One vector with dimension 2.\n",
      "    \n",
      "    >>> x = [1, 2]\n",
      "    >>> y = [4, 5, 6]\n",
      "    >>> np.cross(x, y)\n",
      "    array([12, -6, -3])\n",
      "    \n",
      "    Equivalently:\n",
      "    \n",
      "    >>> x = [1, 2, 0]\n",
      "    >>> y = [4, 5, 6]\n",
      "    >>> np.cross(x, y)\n",
      "    array([12, -6, -3])\n",
      "    \n",
      "    Both vectors with dimension 2.\n",
      "    \n",
      "    >>> x = [1,2]\n",
      "    >>> y = [4,5]\n",
      "    >>> np.cross(x, y)\n",
      "    array(-3)\n",
      "    \n",
      "    Multiple vector cross-products. Note that the direction of the cross\n",
      "    product vector is defined by the `right-hand rule`.\n",
      "    \n",
      "    >>> x = np.array([[1,2,3], [4,5,6]])\n",
      "    >>> y = np.array([[4,5,6], [1,2,3]])\n",
      "    >>> np.cross(x, y)\n",
      "    array([[-3,  6, -3],\n",
      "           [ 3, -6,  3]])\n",
      "    \n",
      "    The orientation of `c` can be changed using the `axisc` keyword.\n",
      "    \n",
      "    >>> np.cross(x, y, axisc=0)\n",
      "    array([[-3,  3],\n",
      "           [ 6, -6],\n",
      "           [-3,  3]])\n",
      "    \n",
      "    Change the vector definition of `x` and `y` using `axisa` and `axisb`.\n",
      "    \n",
      "    >>> x = np.array([[1,2,3], [4,5,6], [7, 8, 9]])\n",
      "    >>> y = np.array([[7, 8, 9], [4,5,6], [1,2,3]])\n",
      "    >>> np.cross(x, y)\n",
      "    array([[ -6,  12,  -6],\n",
      "           [  0,   0,   0],\n",
      "           [  6, -12,   6]])\n",
      "    >>> np.cross(x, y, axisa=0, axisb=0)\n",
      "    array([[-24,  48, -24],\n",
      "           [-30,  60, -30],\n",
      "           [-36,  72, -36]])\n",
      "\n"
     ]
    }
   ],
   "source": [
    "help(np.cross)"
   ]
  },
  {
   "cell_type": "markdown",
   "metadata": {},
   "source": [
    "This will give details on usage of the Numpy `stack()` function.  This is a good way to determine what arguments a function needs.\n",
    "\n",
    "## Arrays\n",
    "\n",
    "Arrays provide significant computational efficiencies over lists.  Consider various ways to represent 3D points, such as those collected from a lidar.  A single point could be represented as a class with a `.x`, `.y`, `.z`, or as a list with 3 elements or as a 1D numpy array with 3 elements.  A point cloud could then be either a list of points or a 2D numpy array which stacks 1D point arrays.  Performing an operation over all the points, such as rotating them, could be done by iterating over the list or else as a matrix multiplication applied to the array.  Both are equivalent mathematically, and lists are more flexible, but array operations are faster.  For operations on just a few points (10s or so), which representation you use does not make too much difference.  When there are 10,000 or 100,000 points, which could be a single lidar scan, then array operations could be orders of magnitude faster.  In addition, Numpy and other packages supply operations that are very efficient over arrays and much slower over lists.\n",
    "\n",
    "Let's do a simple example to compare a list operation with an array operation.  First, let's represent a collection of four 3D points as a list:"
   ]
  },
  {
   "cell_type": "code",
   "execution_count": 8,
   "metadata": {},
   "outputs": [
    {
     "data": {
      "text/plain": [
       "[[1.0, 0.0, 0.0], [1.0, 2.0, 1.0], [3.0, 0.0, 1.0], [4.0, 2.0, 0.0]]"
      ]
     },
     "execution_count": 8,
     "metadata": {},
     "output_type": "execute_result"
    }
   ],
   "source": [
    "point_list = [[1.,0.,0.],[1.,2.,1.],[3.,0.,1.],[4.,2.,0.]]\n",
    "point_list"
   ]
  },
  {
   "cell_type": "markdown",
   "metadata": {},
   "source": [
    "To add `1` to each element you can use list comprehension:"
   ]
  },
  {
   "cell_type": "code",
   "execution_count": 9,
   "metadata": {},
   "outputs": [
    {
     "data": {
      "text/plain": [
       "[[2.0, 1.0, 1.0], [2.0, 3.0, 2.0], [4.0, 1.0, 2.0], [5.0, 3.0, 1.0]]"
      ]
     },
     "execution_count": 9,
     "metadata": {},
     "output_type": "execute_result"
    }
   ],
   "source": [
    "new_point_list = [ [x[0]+1,x[1]+1,x[2]+1] for x in point_list]\n",
    "new_point_list"
   ]
  },
  {
   "cell_type": "markdown",
   "metadata": {},
   "source": [
    "Clearly that is a little awkward, besides being slow for long lists.  \n",
    "\n",
    "Now lets convert our list of lists to a Numpy array:"
   ]
  },
  {
   "cell_type": "code",
   "execution_count": 10,
   "metadata": {},
   "outputs": [
    {
     "data": {
      "text/plain": [
       "array([[1., 0., 0.],\n",
       "       [1., 2., 1.],\n",
       "       [3., 0., 1.],\n",
       "       [4., 2., 0.]])"
      ]
     },
     "execution_count": 10,
     "metadata": {},
     "output_type": "execute_result"
    }
   ],
   "source": [
    "point_array = np.array(point_list)\n",
    "point_array"
   ]
  },
  {
   "cell_type": "markdown",
   "metadata": {},
   "source": [
    "Our points have been stored as a 2D array with each row being a point and stacked vertically.  Now let's add `1` to each element:"
   ]
  },
  {
   "cell_type": "code",
   "execution_count": 12,
   "metadata": {},
   "outputs": [
    {
     "data": {
      "text/plain": [
       "array([[2., 1., 1.],\n",
       "       [2., 3., 2.],\n",
       "       [4., 1., 2.],\n",
       "       [5., 3., 1.]])"
      ]
     },
     "execution_count": 12,
     "metadata": {},
     "output_type": "execute_result"
    }
   ],
   "source": [
    "new_point_array = point_array + 1\n",
    "new_point_array"
   ]
  },
  {
   "cell_type": "markdown",
   "metadata": {},
   "source": [
    "Much easier eh?  And faster to boot!\n",
    "\n",
    "## Array Indexing\n",
    "\n",
    "The same indexing and slicing that we saw used for strings is available for each dimension of Numpy arrays.  Thus, for example, our two-dimension array can be indexed with:"
   ]
  },
  {
   "cell_type": "code",
   "execution_count": 15,
   "metadata": {},
   "outputs": [
    {
     "data": {
      "text/plain": [
       "2.0"
      ]
     },
     "execution_count": 15,
     "metadata": {},
     "output_type": "execute_result"
    }
   ],
   "source": [
    "new_point_array[0,0]"
   ]
  },
  {
   "cell_type": "code",
   "execution_count": 14,
   "metadata": {},
   "outputs": [
    {
     "data": {
      "text/plain": [
       "1.0"
      ]
     },
     "execution_count": 14,
     "metadata": {},
     "output_type": "execute_result"
    }
   ],
   "source": [
    "new_point_array[0,1]"
   ]
  },
  {
   "cell_type": "markdown",
   "metadata": {},
   "source": [
    "The dimensions, or axes as they are called in Numpy, are numbered from left to right.  So the elements of a point, such as `[2., 1., 1.]` are arranged along **axis 1** of the 2D array, and the points are stacked along **axis 0**.  We can access the first point in multiple ways:"
   ]
  },
  {
   "cell_type": "code",
   "execution_count": 16,
   "metadata": {},
   "outputs": [
    {
     "data": {
      "text/plain": [
       "array([2., 1., 1.])"
      ]
     },
     "execution_count": 16,
     "metadata": {},
     "output_type": "execute_result"
    }
   ],
   "source": [
    "new_point_array[0]             # All elements with index 0 of axis 0"
   ]
  },
  {
   "cell_type": "code",
   "execution_count": 17,
   "metadata": {},
   "outputs": [
    {
     "data": {
      "text/plain": [
       "array([2., 1., 1.])"
      ]
     },
     "execution_count": 17,
     "metadata": {},
     "output_type": "execute_result"
    }
   ],
   "source": [
    "new_point_array[0,:]           # Equivalent representation is a slice along axis 1"
   ]
  },
  {
   "cell_type": "markdown",
   "metadata": {},
   "source": [
    "We can access the `X` values by slicing along axis 0 and selecting the first point:"
   ]
  },
  {
   "cell_type": "code",
   "execution_count": null,
   "metadata": {},
   "outputs": [],
   "source": [
    "new_point_array[:,0]           # A slice along axis 0 at index 0 of axis 1"
   ]
  },
  {
   "cell_type": "markdown",
   "metadata": {},
   "source": [
    "Notice that the slices are returned as 1D arrays.  There are many more details to learn about indexing and adding dimensions to array which you can find in the official documentation: [https://numpy.org/doc/stable/reference/arrays.indexing.html](https://numpy.org/doc/stable/reference/arrays.indexing.html).  I strongly recommend you review this page. \n",
    "\n",
    "To get some practice working with axes, try using `concatentate()` to combine arrays along different dimensions.  Predict what you get when you do the following commands, and then try them:"
   ]
  },
  {
   "cell_type": "code",
   "execution_count": null,
   "metadata": {},
   "outputs": [],
   "source": [
    "np.concatenate( (point_array, point_array), axis=0)"
   ]
  },
  {
   "cell_type": "code",
   "execution_count": null,
   "metadata": {},
   "outputs": [],
   "source": [
    "np.concatenate( (point_array, point_array), axis=1)"
   ]
  },
  {
   "cell_type": "markdown",
   "metadata": {},
   "source": [
    "\n",
    "## Rotations\n",
    "\n",
    "A common operation we will need is to rotate points, and these are best done using Numpy arrays.  Scipy has a rotation class that can read in rotations defined in multiple formats including Euler angles, rotation matrices and quaternions.  Its internal representation is hidden, but it can display a rotation in any of these formats.  Official documentation is [here](https://docs.scipy.org/doc/scipy/reference/generated/scipy.spatial.transform.Rotation.html?highlight=rotation#scipy.spatial.transform.Rotation).  Let's try it out."
   ]
  },
  {
   "cell_type": "code",
   "execution_count": 18,
   "metadata": {},
   "outputs": [
    {
     "data": {
      "text/plain": [
       "<scipy.spatial.transform._rotation.Rotation at 0x1d7fea6c030>"
      ]
     },
     "execution_count": 18,
     "metadata": {},
     "output_type": "execute_result"
    }
   ],
   "source": [
    "from scipy.spatial.transform import Rotation as R\n",
    "rot = R.from_euler('XYZ',[0,0,45],degrees=True)     # A 45-degree rotation around the z axis\n",
    "rot"
   ]
  },
  {
   "cell_type": "markdown",
   "metadata": {},
   "source": [
    "We can view the rotation in various representations like this:"
   ]
  },
  {
   "cell_type": "code",
   "execution_count": 19,
   "metadata": {},
   "outputs": [
    {
     "data": {
      "text/plain": [
       "array([0.        , 0.        , 0.78539816])"
      ]
     },
     "execution_count": 19,
     "metadata": {},
     "output_type": "execute_result"
    }
   ],
   "source": [
    "rot.as_euler('XYZ')"
   ]
  },
  {
   "cell_type": "code",
   "execution_count": 20,
   "metadata": {},
   "outputs": [
    {
     "data": {
      "text/plain": [
       "array([[ 0.70710678, -0.70710678,  0.        ],\n",
       "       [ 0.70710678,  0.70710678,  0.        ],\n",
       "       [ 0.        ,  0.        ,  1.        ]])"
      ]
     },
     "execution_count": 20,
     "metadata": {},
     "output_type": "execute_result"
    }
   ],
   "source": [
    "rot.as_matrix()"
   ]
  },
  {
   "cell_type": "markdown",
   "metadata": {},
   "source": [
    "To actually rotate points, we could extract a rotation matrix and multiply a 2D array of points like this:"
   ]
  },
  {
   "cell_type": "code",
   "execution_count": 21,
   "metadata": {},
   "outputs": [
    {
     "data": {
      "text/plain": [
       "array([[ 0.70710678, -0.70710678,  2.12132034,  1.41421356],\n",
       "       [ 0.70710678,  2.12132034,  2.12132034,  4.24264069],\n",
       "       [ 0.        ,  1.        ,  1.        ,  0.        ]])"
      ]
     },
     "execution_count": 21,
     "metadata": {},
     "output_type": "execute_result"
    }
   ],
   "source": [
    "np.matmul( rot.as_matrix(), point_array.T )"
   ]
  },
  {
   "cell_type": "markdown",
   "metadata": {},
   "source": [
    "Here we have used the Numpy `matmul()` function to do matrix multiplication.  We've also applied `.T` to the `point_array` to transpose it so that points are columns before we multiply by `rot`.  You may wish to transpose the result with a `.T` so that the output is put back in row format.\n",
    "\n",
    "Now a simpler and preferred way to rotate the points is to let the Scipy class itself apply the rotation to raw point array like this:"
   ]
  },
  {
   "cell_type": "code",
   "execution_count": 22,
   "metadata": {},
   "outputs": [
    {
     "data": {
      "text/plain": [
       "array([[ 0.70710678,  0.70710678,  0.        ],\n",
       "       [-0.70710678,  2.12132034,  1.        ],\n",
       "       [ 2.12132034,  2.12132034,  1.        ],\n",
       "       [ 1.41421356,  4.24264069,  0.        ]])"
      ]
     },
     "execution_count": 22,
     "metadata": {},
     "output_type": "execute_result"
    }
   ],
   "source": [
    "rot.apply(point_array)"
   ]
  },
  {
   "cell_type": "markdown",
   "metadata": {},
   "source": [
    "This rotates each point, stored as a length-3 row, and keeps it in the same row format.\n",
    "\n",
    "## Images\n",
    "\n",
    "Images are another data type for which Numpy arrays are useful.  We will use OpenCV to read and process an image.  "
   ]
  },
  {
   "cell_type": "code",
   "execution_count": 58,
   "metadata": {},
   "outputs": [],
   "source": [
    "import cv2 as cv\n",
    "img = cv.imread('.Images/book.png')"
   ]
  },
  {
   "cell_type": "markdown",
   "metadata": {},
   "source": [
    "Here I have provided the full path from where Python is running to the `book.png` image in this repo.  You'll need to adjust your path to point to this image from where you are running Python.  Now let's examine the image we just read in:"
   ]
  },
  {
   "cell_type": "code",
   "execution_count": 59,
   "metadata": {},
   "outputs": [
    {
     "data": {
      "text/plain": [
       "numpy.ndarray"
      ]
     },
     "execution_count": 59,
     "metadata": {},
     "output_type": "execute_result"
    }
   ],
   "source": [
    "type(img)"
   ]
  },
  {
   "cell_type": "markdown",
   "metadata": {},
   "source": [
    "If you see an output `NoneType`, then `img` was not successfully loaded.  You'll need to adjust the path to the image.  If you want to know the path of where Python is currently running use this:"
   ]
  },
  {
   "cell_type": "code",
   "execution_count": 60,
   "metadata": {},
   "outputs": [
    {
     "data": {
      "text/plain": [
       "'c:\\\\Users\\\\morri\\\\Source\\\\Repos\\\\av\\\\python_intro'"
      ]
     },
     "execution_count": 60,
     "metadata": {},
     "output_type": "execute_result"
    }
   ],
   "source": [
    "import os\n",
    "os.getcwd() "
   ]
  },
  {
   "cell_type": "markdown",
   "metadata": {},
   "source": [
    "I assume you have adjusted the path and successfully read in the image, and it is a `numpy.ndarray`.  Let's examine its size and the pixel type:"
   ]
  },
  {
   "cell_type": "code",
   "execution_count": 61,
   "metadata": {},
   "outputs": [
    {
     "data": {
      "text/plain": [
       "(247, 160, 3)"
      ]
     },
     "execution_count": 61,
     "metadata": {},
     "output_type": "execute_result"
    }
   ],
   "source": [
    "img.shape"
   ]
  },
  {
   "cell_type": "code",
   "execution_count": 62,
   "metadata": {},
   "outputs": [
    {
     "data": {
      "text/plain": [
       "dtype('uint8')"
      ]
     },
     "execution_count": 62,
     "metadata": {},
     "output_type": "execute_result"
    }
   ],
   "source": [
    "img.dtype "
   ]
  },
  {
   "cell_type": "markdown",
   "metadata": {},
   "source": [
    "We see that it is a 3D array; the `.shape` is a tuple with array dimension sizes, in this case: (height, width, nchannels).  The three channels are (blue, green, red), as this is the default format for OpenCV, which differs from the more usual (red, green, blue) format.  The data type is an unsigned 8-bit type (`uint8`) which stores numbers from 0 to 255 inclusive.  We can extract the 3 components of a sample single pixel as follows:"
   ]
  },
  {
   "cell_type": "code",
   "execution_count": 63,
   "metadata": {},
   "outputs": [
    {
     "data": {
      "text/plain": [
       "array([212, 187, 143], dtype=uint8)"
      ]
     },
     "execution_count": 63,
     "metadata": {},
     "output_type": "execute_result"
    }
   ],
   "source": [
    "img[22,28]  "
   ]
  },
  {
   "cell_type": "markdown",
   "metadata": {},
   "source": [
    "These three values are the (blue, green, red) values for that pixel.  Review Numpy [indexing](https://numpy.org/doc/stable/reference/arrays.indexing.html) if this isn't clear.\n",
    "\n",
    "Let's say our goal is to find the horizontal image gradient of the grayscale version of this image.  Here are the steps we would take."
   ]
  },
  {
   "cell_type": "code",
   "execution_count": 64,
   "metadata": {},
   "outputs": [],
   "source": [
    "img = img / 255 "
   ]
  },
  {
   "cell_type": "markdown",
   "metadata": {},
   "source": [
    "This converts a floating point array and scales to a range of 0 to 1, which is the usual range for floating point images.  It is best to use floating point rather than unsigned integers because the gradient can be negative or could be larger than the maximum `uint8` value of 255.  Operating in `uint8` will result in gradients being clipped.  Confirming our new data type:"
   ]
  },
  {
   "cell_type": "code",
   "execution_count": 65,
   "metadata": {},
   "outputs": [
    {
     "data": {
      "text/plain": [
       "dtype('float64')"
      ]
     },
     "execution_count": 65,
     "metadata": {},
     "output_type": "execute_result"
    }
   ],
   "source": [
    "img.dtype"
   ]
  },
  {
   "cell_type": "markdown",
   "metadata": {},
   "source": [
    "Next, convert the image to grayscale with `cvtColor`, which is a general purpose colorspace transformation utility:"
   ]
  },
  {
   "cell_type": "code",
   "execution_count": 66,
   "metadata": {},
   "outputs": [],
   "source": [
    "img_gray = cv.cvtColor(img.astype(np.float32), cv.COLOR_BGR2GRAY)  # Convert 3-channel color to single-channel grayscale"
   ]
  },
  {
   "cell_type": "markdown",
   "metadata": {},
   "source": [
    "If you do `help(cv.cvtColor)` you will see that `cvtColor` requires floating-bit arrays be 32-bit, while `img` is 64-bit, so we passed in a 32-bit version of `img`.  This grayscale image is the same size, except with a single channel:"
   ]
  },
  {
   "cell_type": "code",
   "execution_count": 67,
   "metadata": {},
   "outputs": [
    {
     "data": {
      "text/plain": [
       "(247, 160)"
      ]
     },
     "execution_count": 67,
     "metadata": {},
     "output_type": "execute_result"
    }
   ],
   "source": [
    "img_gray.shape"
   ]
  },
  {
   "cell_type": "markdown",
   "metadata": {},
   "source": [
    "Finally, let's apply a Sobel operator to obtain the image gradient in x:"
   ]
  },
  {
   "cell_type": "code",
   "execution_count": 68,
   "metadata": {},
   "outputs": [],
   "source": [
    "img_grad_x = cv.Sobel(img_gray, cv.CV_32F, 1, 0, ksize=5)"
   ]
  },
  {
   "cell_type": "markdown",
   "metadata": {},
   "source": [
    "To see the meaning of the parameters, use: `help(cv.Sobel)`.  Next, let's see how to plot our result.\n",
    "\n",
    "## Plotting\n",
    "OpenCV has some graphical display functions including showing images.  For instance:"
   ]
  },
  {
   "cell_type": "code",
   "execution_count": 69,
   "metadata": {},
   "outputs": [
    {
     "data": {
      "text/plain": [
       "-1"
      ]
     },
     "execution_count": 69,
     "metadata": {},
     "output_type": "execute_result"
    }
   ],
   "source": [
    "cv.imshow('Image',img)\n",
    "cv.waitKey(1) "
   ]
  },
  {
   "cell_type": "markdown",
   "metadata": {},
   "source": [
    "This will show an image in a separate window like this:\n",
    "\n",
    "![Image](.Images/show_book.png)\n",
    "\n",
    "Find the window, and when you are done, clear it with:"
   ]
  },
  {
   "cell_type": "code",
   "execution_count": 70,
   "metadata": {},
   "outputs": [],
   "source": [
    "cv.destroyAllWindows()"
   ]
  },
  {
   "cell_type": "markdown",
   "metadata": {},
   "source": [
    "Let's say we want to draw a circle at the image center.  Using the OpenCV `circle` function, this will actually change the pixel values, so if we want to avoid changing our `img` variable we could make a copy of it just for plotting as follows:"
   ]
  },
  {
   "cell_type": "code",
   "execution_count": 71,
   "metadata": {},
   "outputs": [
    {
     "data": {
      "text/plain": [
       "-1"
      ]
     },
     "execution_count": 71,
     "metadata": {},
     "output_type": "execute_result"
    }
   ],
   "source": [
    "img_plot = img.copy()\n",
    "img_cen_xy = (img_plot.shape[1]//2, img_plot.shape[0]//2)  # Integer division and order (x,y) \n",
    "cv.circle( img_plot, img_cen_xy, radius=15, color=(255,0,0), thickness=2 )\n",
    "cv.imshow('Image with Circle', img_plot)\n",
    "cv.waitKey(1)"
   ]
  },
  {
   "cell_type": "markdown",
   "metadata": {},
   "source": [
    "And when done, delete the window with:"
   ]
  },
  {
   "cell_type": "code",
   "execution_count": 72,
   "metadata": {},
   "outputs": [],
   "source": [
    "cv.destroyAllWindows()"
   ]
  },
  {
   "cell_type": "markdown",
   "metadata": {},
   "source": [
    "More sophisticated plotting is available with Matplotlib.  We can plot points on top of an image without modifying the image like so:"
   ]
  },
  {
   "cell_type": "code",
   "execution_count": 74,
   "metadata": {},
   "outputs": [
    {
     "data": {
      "image/png": "[encoded data removed]",
      "text/plain": [
       "<Figure size 432x288 with 1 Axes>"
      ]
     },
     "metadata": {
      "needs_background": "light"
     },
     "output_type": "display_data"
    }
   ],
   "source": [
    "import matplotlib.pyplot as plt\n",
    "\n",
    "img_rgb = cv.cvtColor(img.astype(np.float32), cv.COLOR_BGR2RGB)  # convert from BGR to RGB\n",
    "fig = plt.figure(num='Matplotlib imshow')\n",
    "plt.imshow(img_rgb)\n",
    "plt.plot(img_cen_xy[0],img_cen_xy[1],color='blue',marker='o',linewidth=5,markersize=20)\n",
    "plt.show()"
   ]
  },
  {
   "cell_type": "markdown",
   "metadata": {},
   "source": [
    "Notice that Matplotlib supports inline plotting for Jupyter notebooks.  Now let's plot the image gradient image, `gx`, which we calculated above along with a colorbar:"
   ]
  },
  {
   "cell_type": "code",
   "execution_count": 76,
   "metadata": {},
   "outputs": [
    {
     "data": {
      "image/png": "[encoded data removed]",
      "text/plain": [
       "<Figure size 432x288 with 2 Axes>"
      ]
     },
     "metadata": {
      "needs_background": "light"
     },
     "output_type": "display_data"
    }
   ],
   "source": [
    "fig = plt.figure(num='Image Gradient')       # Create a figure names \"Image Gradient\"\n",
    "ax = fig.subplots(1,1)                       # Divide into 1x1 set of axes (could make more)\n",
    "pcm = ax.imshow(img_grad_x, cmap='gray')             # Show gx with a grayscale colormap\n",
    "ax.axis('off')\n",
    "plt.title('Horizontal Gradient')\n",
    "cbax = fig.add_axes([0.8, 0.1, 0.05, 0.8])   # Add an axes at location (0.8, 0.1) for our colorbar\n",
    "plt.colorbar(pcm, cax=cbax)                  \n",
    "plt.show()                                   # Render the plot and wait for user to kill it\n"
   ]
  },
  {
   "cell_type": "markdown",
   "metadata": {},
   "source": [
    "There is extensive documentation at [matplotlib.org/](matplotlib.org/) with many examples that are easily findable with a simple search.\n",
    "\n",
    "## Broadcasting\n",
    "\n",
    "Our final topic is that of broadcasting in Numpy.  This enables efficient repetitive operations on arrays.  But before describing it, let's review elementwise operations.  Start with two arrays of points:"
   ]
  },
  {
   "cell_type": "code",
   "execution_count": 77,
   "metadata": {},
   "outputs": [
    {
     "data": {
      "text/plain": [
       "array([[1., 0., 0.],\n",
       "       [1., 2., 1.],\n",
       "       [3., 0., 1.],\n",
       "       [4., 2., 0.]])"
      ]
     },
     "execution_count": 77,
     "metadata": {},
     "output_type": "execute_result"
    }
   ],
   "source": [
    "import numpy as np\n",
    "points = np.array([[1.,0.,0.],[1.,2.,1.],[3.,0.,1.],[4.,2.,0.]])\n",
    "points"
   ]
  },
  {
   "cell_type": "code",
   "execution_count": 78,
   "metadata": {},
   "outputs": [
    {
     "data": {
      "text/plain": [
       "array([[4., 2., 0.],\n",
       "       [3., 0., 1.],\n",
       "       [1., 2., 1.],\n",
       "       [1., 0., 0.]])"
      ]
     },
     "execution_count": 78,
     "metadata": {},
     "output_type": "execute_result"
    }
   ],
   "source": [
    "opoints = np.flip(points,axis=0)\n",
    "opoints"
   ]
  },
  {
   "cell_type": "markdown",
   "metadata": {},
   "source": [
    "If we add or multiply `points` and `opoints`, these operations are done elementwise.  For example:"
   ]
  },
  {
   "cell_type": "code",
   "execution_count": 79,
   "metadata": {},
   "outputs": [
    {
     "data": {
      "text/plain": [
       "array([[5., 2., 0.],\n",
       "       [4., 2., 2.],\n",
       "       [4., 2., 2.],\n",
       "       [5., 2., 0.]])"
      ]
     },
     "execution_count": 79,
     "metadata": {},
     "output_type": "execute_result"
    }
   ],
   "source": [
    "spoints = points + opoints\n",
    "spoints"
   ]
  },
  {
   "cell_type": "markdown",
   "metadata": {},
   "source": [
    "For this to operate elementwise, it is important that `points` and `opoints` are the same shape.  Now, let's say we want to translate `spoints` by a single 3-vector:"
   ]
  },
  {
   "cell_type": "code",
   "execution_count": null,
   "metadata": {},
   "outputs": [],
   "source": [
    "t = np.array([1.,4.,9.]) "
   ]
  },
  {
   "cell_type": "markdown",
   "metadata": {},
   "source": [
    "How might we add `t` to `spoints` so that it is added to each 3D point?  \n",
    "\n",
    "One way would be to stack 4 copies of `t` along `axis=0` to create a new `4 X 3` matrix and then do an elementwise addition.  This works, but is tedious, and could be inefficient depending how it is done.  A better way is through **broadcasting**.  \n",
    "\n",
    "I will describe broadcasting for adding two rank `N` arrays, `A` and `B`. (The same principles apply to other elementwise operations like multiplication and division.)  To add `A` and `B`: \n",
    "* The size of each corresponding dimension must be the same \n",
    "\n",
    "**OR** \n",
    "* If any dimension sizes differ, then one of the corresponding sizes must be 1.  \n",
    "\n",
    "Any dimension of `A` or `B` that is 1 causes the array to be replicated along that dimension to equal the size of the other. \n",
    "\n",
    "Let's look at an example"
   ]
  },
  {
   "cell_type": "code",
   "execution_count": 80,
   "metadata": {},
   "outputs": [
    {
     "data": {
      "text/plain": [
       "array([[1., 0., 0.],\n",
       "       [0., 1., 0.],\n",
       "       [0., 0., 1.]])"
      ]
     },
     "execution_count": 80,
     "metadata": {},
     "output_type": "execute_result"
    }
   ],
   "source": [
    "A = np.eye(3)                  # A.shape: (3,3)\n",
    "A"
   ]
  },
  {
   "cell_type": "code",
   "execution_count": 81,
   "metadata": {},
   "outputs": [
    {
     "data": {
      "text/plain": [
       "array([[0],\n",
       "       [2],\n",
       "       [4]])"
      ]
     },
     "execution_count": 81,
     "metadata": {},
     "output_type": "execute_result"
    }
   ],
   "source": [
    "B = 2*np.arange(3)[:,None]     # [:,None] adds an extra empty dimension so that B.shape: (3,1)\n",
    "B"
   ]
  },
  {
   "cell_type": "markdown",
   "metadata": {},
   "source": [
    "The `[:,None]` adds a new dimension along axis 1 and turns shape of B from `(3,) --> (3,1)`.  Now let's add these arrays:"
   ]
  },
  {
   "cell_type": "code",
   "execution_count": 82,
   "metadata": {},
   "outputs": [
    {
     "data": {
      "text/plain": [
       "array([[1., 0., 0.],\n",
       "       [2., 3., 2.],\n",
       "       [4., 4., 5.]])"
      ]
     },
     "execution_count": 82,
     "metadata": {},
     "output_type": "execute_result"
    }
   ],
   "source": [
    "C = A + B\n",
    "C"
   ]
  },
  {
   "cell_type": "markdown",
   "metadata": {},
   "source": [
    "To see what happened, let's compare the shapes of `A`: `(3,3)`, and `B`: `(3,1)`. Along axis 0, `A` and `B` have the same size.   Along axis 1 `A` has size 3 while `B` has size 1.  This means `B` will be replicated 3 times along axis 1.  So the following operation that will give the same result as broadcasting is:"
   ]
  },
  {
   "cell_type": "code",
   "execution_count": 83,
   "metadata": {},
   "outputs": [
    {
     "data": {
      "text/plain": [
       "array([[1., 0., 0.],\n",
       "       [2., 3., 2.],\n",
       "       [4., 4., 5.]])"
      ]
     },
     "execution_count": 83,
     "metadata": {},
     "output_type": "execute_result"
    }
   ],
   "source": [
    "C = A + np.repeat(B,3,axis=1)         # Explicitly replicate along axis 1\n",
    "C"
   ]
  },
  {
   "cell_type": "markdown",
   "metadata": {},
   "source": [
    "Using broadcasting this can be done more succinctly.   And broadcasting works for arrays of any number of dimensions.  \n",
    "\n",
    "There is one more detail.  If `A` or `B` has fewer dimensions than the other, then additional leading dimensions of size 1 are added so that both arrays have the same number of dimensions.  Let's consider some examples and whether `A` and `B` can be broadcast to create `C`:\n",
    "\n",
    "| `A.shape` | `B.shape` | `C.shape` or invalid |\n",
    "| --- |--- | --- |\n",
    "| `(6,4,2)` | `(6,1,2)` | `(6,4,2)` |\n",
    "| `(4,2,5)` | `(4,3,5)` | invalid [Dimension 1 has a `2` and `3`] |\n",
    "| `(3,1,2,6)` | `(3,5,2,1)` | `(3,5,2,6)` |\n",
    "| `(5,4)` | `(3,5,1)` | `(3,5,4)` [A leading 1 is added to `(5,4) --> (1,5,4)`] |\n",
    "| `(4,5)` | `(4,5,1)` | invalid [Adding a leading dimension to `A` gives size `(1,4,5)`]\n",
    "\n",
    "Now let's return to our task of translating `spoints` with `t`.  "
   ]
  },
  {
   "cell_type": "code",
   "execution_count": 84,
   "metadata": {},
   "outputs": [
    {
     "data": {
      "text/plain": [
       "array([[5., 2., 0.],\n",
       "       [4., 2., 2.],\n",
       "       [4., 2., 2.],\n",
       "       [5., 2., 0.]])"
      ]
     },
     "execution_count": 84,
     "metadata": {},
     "output_type": "execute_result"
    }
   ],
   "source": [
    "spoints = np.array([[5., 2., 0.], [4., 2., 2.], [4., 2., 2.], [5., 2., 0.]])\n",
    "spoints"
   ]
  },
  {
   "cell_type": "code",
   "execution_count": 85,
   "metadata": {},
   "outputs": [
    {
     "data": {
      "text/plain": [
       "array([1., 4., 9.])"
      ]
     },
     "execution_count": 85,
     "metadata": {},
     "output_type": "execute_result"
    }
   ],
   "source": [
    "t = np.array([1.,4.,9.]) \n",
    "t"
   ]
  },
  {
   "cell_type": "markdown",
   "metadata": {},
   "source": [
    "It should now be clear what we can simply add them:"
   ]
  },
  {
   "cell_type": "code",
   "execution_count": 86,
   "metadata": {},
   "outputs": [
    {
     "data": {
      "text/plain": [
       "array([[ 6.,  6.,  9.],\n",
       "       [ 5.,  6., 11.],\n",
       "       [ 5.,  6., 11.],\n",
       "       [ 6.,  6.,  9.]])"
      ]
     },
     "execution_count": 86,
     "metadata": {},
     "output_type": "execute_result"
    }
   ],
   "source": [
    "npoints = spoints + t\n",
    "npoints"
   ]
  },
  {
   "cell_type": "markdown",
   "metadata": {},
   "source": [
    "What is happening here?  `spoints` is size `(4,3)` while `t` is size `(3,)`.  During broadcasting, `t` is first converted to size `(1,3)`, and then replicated four times along dimension 0 and then added.  Thus `t` is added to each of the four 3D points, effectively translating them by `t`. \n",
    "\n",
    "Here are some practice examples.  Predict what you will get from the following operations and then try them out:"
   ]
  },
  {
   "cell_type": "code",
   "execution_count": 87,
   "metadata": {},
   "outputs": [
    {
     "data": {
      "text/plain": [
       "array([[0., 1., 2., 3.],\n",
       "       [0., 1., 2., 3.],\n",
       "       [0., 1., 2., 3.]])"
      ]
     },
     "execution_count": 87,
     "metadata": {},
     "output_type": "execute_result"
    }
   ],
   "source": [
    "np.ones( (3,1) ) * np.arange(4)\n"
   ]
  },
  {
   "cell_type": "code",
   "execution_count": 88,
   "metadata": {},
   "outputs": [
    {
     "data": {
      "text/plain": [
       "array([[[2., 4., 8.],\n",
       "        [2., 4., 8.],\n",
       "        [2., 4., 8.],\n",
       "        [2., 4., 8.]],\n",
       "\n",
       "       [[2., 4., 8.],\n",
       "        [2., 4., 8.],\n",
       "        [2., 4., 8.],\n",
       "        [2., 4., 8.]]])"
      ]
     },
     "execution_count": 88,
     "metadata": {},
     "output_type": "execute_result"
    }
   ],
   "source": [
    "np.ones( (2,4,3) ) * np.array( [2,4,8] )"
   ]
  },
  {
   "cell_type": "markdown",
   "metadata": {},
   "source": [
    "Broadcasting is useful not only for operating on point cloud arrays, but also on image arrays.\n",
    "\n",
    "\n",
    "___\n",
    "### [Outline](README.md), Next: [Chapter 14: Conclusion](Chapter_14_Conclusion.md)"
   ]
  }
 ],
 "metadata": {
  "kernelspec": {
   "display_name": "Python 3.9.12 ('basic')",
   "language": "python",
   "name": "python3"
  },
  "language_info": {
   "codemirror_mode": {
    "name": "ipython",
    "version": 3
   },
   "file_extension": ".py",
   "mimetype": "text/x-python",
   "name": "python",
   "nbconvert_exporter": "python",
   "pygments_lexer": "ipython3",
   "version": "3.9.13"
  },
  "orig_nbformat": 4,
  "vscode": {
   "interpreter": {
    "hash": "53e2749c903124bcb77c73a8e4bdc9f454c2769f07e2d95583bdcf26be5d92b4"
   }
  }
 },
 "nbformat": 4,
 "nbformat_minor": 2
}
